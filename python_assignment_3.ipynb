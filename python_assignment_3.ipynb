{
 "cells": [
  {
   "cell_type": "markdown",
   "id": "371242f5",
   "metadata": {},
   "source": [
    "This program has the following sections:\n",
    "\n",
    "web scraping:\n",
    "\n",
    "1. Creating a function for data collection, Creating a list of url's and Reading data.\n",
    "2. Creating pandas dataframe with obtained data.\n",
    "3. Cleaning the data and creating new columns from description column and details column.\n",
    "4. Deleting the unwanted columns, arranging the columns and sending the data to a csv file.\n",
    "\n",
    "statistics and Results:\n",
    "\n",
    "5. statistics on the data.\n",
    "6. Results Section."
   ]
  },
  {
   "cell_type": "code",
   "execution_count": 1,
   "id": "412cea2c",
   "metadata": {},
   "outputs": [],
   "source": [
    "import pandas as pd\n",
    "import numpy as np\n",
    "import seaborn as sns\n",
    "import matplotlib.pyplot as plt\n",
    "import statsmodels.api as sm\n",
    "import scipy.stats as stats\n",
    "from bs4 import BeautifulSoup\n",
    "import requests\n",
    "import os"
   ]
  },
  {
   "cell_type": "markdown",
   "id": "e9b2132d",
   "metadata": {},
   "source": [
    "# web scraping"
   ]
  },
  {
   "cell_type": "code",
   "execution_count": 2,
   "id": "69ca4a35",
   "metadata": {},
   "outputs": [],
   "source": [
    "os.chdir('D:\\DKIT\\python')"
   ]
  },
  {
   "cell_type": "markdown",
   "id": "998c7f13",
   "metadata": {},
   "source": [
    "# 1. Creating a function for data collection, Creating a list of url's and Reading data"
   ]
  },
  {
   "cell_type": "code",
   "execution_count": 3,
   "id": "bcb23f6c",
   "metadata": {},
   "outputs": [],
   "source": [
    "#Creating empty lists for data collection\n",
    "brand = []\n",
    "details = []\n",
    "prices_cleaned = []\n",
    "description = []\n",
    "delivery_cleaned = []"
   ]
  },
  {
   "cell_type": "code",
   "execution_count": 4,
   "id": "139fe843",
   "metadata": {},
   "outputs": [],
   "source": [
    "#Function created for data collection\n",
    "def data_collection():\n",
    "    i = 0\n",
    "    laptop_name = []    \n",
    "    for i in soup.select('.productTitle span'):\n",
    "        laptop_name.append(i.text)\n",
    "    lengths = len(laptop_name)   \n",
    "    for i in range(0,lengths,2):\n",
    "        brand.append(laptop_name[i])\n",
    "    for i in range(1,lengths,2):\n",
    "        details.append(laptop_name[i])\n",
    "    i = 0\n",
    "    price = []\n",
    "    for i in soup.select('.price'):\n",
    "         price.append(i.text)\n",
    "    i = 0\n",
    "    for i in price:\n",
    "         prices_cleaned.append(i.strip())\n",
    "    i = 0\n",
    "    for i in soup.select('.productDescription'):\n",
    "         description.append(i.text)\n",
    "    delivery = []\n",
    "    for i in soup.select('.prd-channels li:nth-child(1)'):\n",
    "         delivery.append(i.text)\n",
    "    for i in delivery:\n",
    "         delivery_cleaned.append(i.strip())"
   ]
  },
  {
   "cell_type": "code",
   "execution_count": 5,
   "id": "6b043fb4",
   "metadata": {},
   "outputs": [],
   "source": [
    "#Initial URL is different. So a seperate code is written for taking data for initial page.\n",
    "url = 'https://www.currys.ie/ieen/computing/laptops/laptops/315_3226_30328_xx_xx/xx-criteria.html'\n",
    "r = requests.get(url)\n",
    "html_doc = r.text\n",
    "soup = BeautifulSoup(html_doc)\n",
    "data_collection()"
   ]
  },
  {
   "cell_type": "code",
   "execution_count": 6,
   "id": "aaa8d761",
   "metadata": {},
   "outputs": [],
   "source": [
    "#Creating a list with urls of the remaining 18 urls\n",
    "url_list = []\n",
    "part1 = 'https://www.currys.ie/ieen/computing/laptops/laptops/315_3226_30328_xx_xx/'\n",
    "part3 = '_20/relevance-desc/xx-criteria.html'\n",
    "for i in range(2,20):\n",
    "    part2 = str(i)\n",
    "    new_url = part1+part2+part3\n",
    "    url_list.append(new_url)"
   ]
  },
  {
   "cell_type": "code",
   "execution_count": 7,
   "id": "0f84c181",
   "metadata": {},
   "outputs": [
    {
     "name": "stdout",
     "output_type": "stream",
     "text": [
      "['https://www.currys.ie/ieen/computing/laptops/laptops/315_3226_30328_xx_xx/2_20/relevance-desc/xx-criteria.html', 'https://www.currys.ie/ieen/computing/laptops/laptops/315_3226_30328_xx_xx/3_20/relevance-desc/xx-criteria.html', 'https://www.currys.ie/ieen/computing/laptops/laptops/315_3226_30328_xx_xx/4_20/relevance-desc/xx-criteria.html', 'https://www.currys.ie/ieen/computing/laptops/laptops/315_3226_30328_xx_xx/5_20/relevance-desc/xx-criteria.html', 'https://www.currys.ie/ieen/computing/laptops/laptops/315_3226_30328_xx_xx/6_20/relevance-desc/xx-criteria.html', 'https://www.currys.ie/ieen/computing/laptops/laptops/315_3226_30328_xx_xx/7_20/relevance-desc/xx-criteria.html', 'https://www.currys.ie/ieen/computing/laptops/laptops/315_3226_30328_xx_xx/8_20/relevance-desc/xx-criteria.html', 'https://www.currys.ie/ieen/computing/laptops/laptops/315_3226_30328_xx_xx/9_20/relevance-desc/xx-criteria.html', 'https://www.currys.ie/ieen/computing/laptops/laptops/315_3226_30328_xx_xx/10_20/relevance-desc/xx-criteria.html', 'https://www.currys.ie/ieen/computing/laptops/laptops/315_3226_30328_xx_xx/11_20/relevance-desc/xx-criteria.html', 'https://www.currys.ie/ieen/computing/laptops/laptops/315_3226_30328_xx_xx/12_20/relevance-desc/xx-criteria.html', 'https://www.currys.ie/ieen/computing/laptops/laptops/315_3226_30328_xx_xx/13_20/relevance-desc/xx-criteria.html', 'https://www.currys.ie/ieen/computing/laptops/laptops/315_3226_30328_xx_xx/14_20/relevance-desc/xx-criteria.html', 'https://www.currys.ie/ieen/computing/laptops/laptops/315_3226_30328_xx_xx/15_20/relevance-desc/xx-criteria.html', 'https://www.currys.ie/ieen/computing/laptops/laptops/315_3226_30328_xx_xx/16_20/relevance-desc/xx-criteria.html', 'https://www.currys.ie/ieen/computing/laptops/laptops/315_3226_30328_xx_xx/17_20/relevance-desc/xx-criteria.html', 'https://www.currys.ie/ieen/computing/laptops/laptops/315_3226_30328_xx_xx/18_20/relevance-desc/xx-criteria.html', 'https://www.currys.ie/ieen/computing/laptops/laptops/315_3226_30328_xx_xx/19_20/relevance-desc/xx-criteria.html']\n"
     ]
    }
   ],
   "source": [
    "print(url_list)"
   ]
  },
  {
   "cell_type": "code",
   "execution_count": 8,
   "id": "3fb697fc",
   "metadata": {},
   "outputs": [],
   "source": [
    "for i in url_list:\n",
    "    url = i\n",
    "    r = requests.get(url)\n",
    "    html_doc = r.text\n",
    "    soup = BeautifulSoup(html_doc)\n",
    "    data_collection()"
   ]
  },
  {
   "cell_type": "code",
   "execution_count": 9,
   "id": "456a9e7d",
   "metadata": {},
   "outputs": [
    {
     "name": "stdout",
     "output_type": "stream",
     "text": [
      "374\n",
      "374\n",
      "374\n",
      "374\n",
      "374\n",
      "374\n"
     ]
    }
   ],
   "source": [
    "print(len(brand))\n",
    "print(len(description))\n",
    "print(len(details))\n",
    "print(len(prices_cleaned))\n",
    "print(len(details))\n",
    "print(len(delivery_cleaned))"
   ]
  },
  {
   "cell_type": "markdown",
   "id": "0c4d6cbc",
   "metadata": {},
   "source": [
    "# 2. Creating pandas dataframe with obtained data."
   ]
  },
  {
   "cell_type": "code",
   "execution_count": 10,
   "id": "0cabc9a1",
   "metadata": {},
   "outputs": [],
   "source": [
    "#All lengths are same so proceeding with the creation of pandas data frame.\n",
    "pc_data = pd.DataFrame(brand,columns = ['brand'])"
   ]
  },
  {
   "cell_type": "code",
   "execution_count": 11,
   "id": "c78c054d",
   "metadata": {},
   "outputs": [
    {
     "name": "stdout",
     "output_type": "stream",
     "text": [
      "<class 'pandas.core.frame.DataFrame'>\n",
      "RangeIndex: 374 entries, 0 to 373\n",
      "Data columns (total 1 columns):\n",
      " #   Column  Non-Null Count  Dtype \n",
      "---  ------  --------------  ----- \n",
      " 0   brand   374 non-null    object\n",
      "dtypes: object(1)\n",
      "memory usage: 3.0+ KB\n"
     ]
    }
   ],
   "source": [
    "pc_data.info()"
   ]
  },
  {
   "cell_type": "code",
   "execution_count": 12,
   "id": "ceb5e2f3",
   "metadata": {},
   "outputs": [],
   "source": [
    "pc_data['details'] = details"
   ]
  },
  {
   "cell_type": "code",
   "execution_count": 13,
   "id": "4e0a32a0",
   "metadata": {},
   "outputs": [],
   "source": [
    "pc_data['price'] = prices_cleaned\n",
    "pc_data['delivery'] = delivery_cleaned\n",
    "pc_data['description'] = description"
   ]
  },
  {
   "cell_type": "code",
   "execution_count": 14,
   "id": "6df3ac22",
   "metadata": {},
   "outputs": [
    {
     "name": "stdout",
     "output_type": "stream",
     "text": [
      "<class 'pandas.core.frame.DataFrame'>\n",
      "RangeIndex: 374 entries, 0 to 373\n",
      "Data columns (total 5 columns):\n",
      " #   Column       Non-Null Count  Dtype \n",
      "---  ------       --------------  ----- \n",
      " 0   brand        374 non-null    object\n",
      " 1   details      374 non-null    object\n",
      " 2   price        374 non-null    object\n",
      " 3   delivery     374 non-null    object\n",
      " 4   description  374 non-null    object\n",
      "dtypes: object(5)\n",
      "memory usage: 14.7+ KB\n",
      "None\n"
     ]
    }
   ],
   "source": [
    "print(pc_data.info())"
   ]
  },
  {
   "cell_type": "markdown",
   "id": "958f8672",
   "metadata": {},
   "source": [
    "# 3. Cleaning the data and creating new columns from description column and details column."
   ]
  },
  {
   "cell_type": "code",
   "execution_count": 15,
   "id": "ac698609",
   "metadata": {},
   "outputs": [
    {
     "name": "stdout",
     "output_type": "stream",
     "text": [
      "['HP' 'DELL' 'ACER' 'LENOVO' 'APPLE' 'ASUS' 'SAMSUNG' 'MICROSOFT' 'HUAWEI']\n"
     ]
    }
   ],
   "source": [
    "print(pc_data['brand'].unique())"
   ]
  },
  {
   "cell_type": "code",
   "execution_count": 16,
   "id": "a83050b1",
   "metadata": {},
   "outputs": [
    {
     "name": "stdout",
     "output_type": "stream",
     "text": [
      "['€649.00' '€529.00' '€379.00' '€299.00' '€659.00' '€499.00' '€1,109.00'\n",
      " '€219.00' '€159.00' '€429.00' '€319.00' '€599.00' '€719.00' '€399.00'\n",
      " '€609.00' '€1,419.00' '€179.00' '€549.00' '€289.00' '€879.00' '€639.00'\n",
      " '€359.00' '€1,019.00' '€1,379.00' '€2,749.00' '€959.00' '€349.00'\n",
      " '€1,079.00' '€419.00' '€1,649.00' '€1,399.00' '€669.00' '€1,129.00'\n",
      " '€1,599.00' '€619.00' '€999.00' '€899.00' '€569.00' '€1,949.00' '€449.00'\n",
      " '€388.00' '€839.00' '€509.00' '€539.99' '€1,139.00' '€309.00' '€1,629.00'\n",
      " '€224.99' '€239.00' '€539.00' '€389.00' '€329.00' '€1,499.00' '€269.00'\n",
      " '€439.00' '€409.00' '€2,039.00' '€249.00' '€679.00' '€3,839.00' '€629.00'\n",
      " '€1,049.00' '€339.00' '€1,029.00' '€459.00' '€1,099.00' '€1,199.00'\n",
      " '€779.99' '€1,999.00' '€1,699.00' '€479.00' '€799.00' '€689.00'\n",
      " '€1,329.00' '€2,979.00' '€2,799.00' '€1,299.00' '€1,849.00' '€739.00'\n",
      " '€469.00' '€2,279.00' '€1,439.00' '€909.99' '€1,799.00' '€1,659.00'\n",
      " '€369.00' '€2,709.00' '€1,979.00' '€2,899.00' '€979.00' '€859.00'\n",
      " '€829.00' '€1,619.00' '€1,559.00' '€1,149.00' '€2,049.00' '€1,899.00'\n",
      " '€2,149.00' '€949.00' '€559.00' '€1,349.00' '€1,719.00' '€279.00'\n",
      " '€1,249.00' '€2,249.00' '€519.00' '€169.00' '€229.00' '€3,849.00'\n",
      " '€1,389.00' '€699.00' '€579.00' '€1,069.00' '€1,319.00' '€1,869.00'\n",
      " '€779.00' '€3,599.00' '€749.00' '€929.00' '€479.99' '€1,499.99'\n",
      " '€2,209.00' '€1,259.00' '€1,769.00' '€699.99' '€1,199.99' '€2,339.99'\n",
      " '€1,589.00' '€1,559.99' '€2,449.00' '€2,299.00' '€2,159.99' '€1,859.00'\n",
      " '€2,079.00' '€849.00']\n"
     ]
    }
   ],
   "source": [
    "print(pc_data['price'].unique())"
   ]
  },
  {
   "cell_type": "code",
   "execution_count": 17,
   "id": "1f127006",
   "metadata": {},
   "outputs": [],
   "source": [
    "pc_data['price'] = pc_data['price'].str.replace(',','')\n",
    "pc_data['price'] = pc_data['price'].str.replace('€','')"
   ]
  },
  {
   "cell_type": "code",
   "execution_count": 18,
   "id": "6a9a2c16",
   "metadata": {},
   "outputs": [
    {
     "name": "stdout",
     "output_type": "stream",
     "text": [
      "['649.00' '529.00' '379.00' '299.00' '659.00' '499.00' '1109.00' '219.00'\n",
      " '159.00' '429.00' '319.00' '599.00' '719.00' '399.00' '609.00' '1419.00'\n",
      " '179.00' '549.00' '289.00' '879.00' '639.00' '359.00' '1019.00' '1379.00'\n",
      " '2749.00' '959.00' '349.00' '1079.00' '419.00' '1649.00' '1399.00'\n",
      " '669.00' '1129.00' '1599.00' '619.00' '999.00' '899.00' '569.00'\n",
      " '1949.00' '449.00' '388.00' '839.00' '509.00' '539.99' '1139.00' '309.00'\n",
      " '1629.00' '224.99' '239.00' '539.00' '389.00' '329.00' '1499.00' '269.00'\n",
      " '439.00' '409.00' '2039.00' '249.00' '679.00' '3839.00' '629.00'\n",
      " '1049.00' '339.00' '1029.00' '459.00' '1099.00' '1199.00' '779.99'\n",
      " '1999.00' '1699.00' '479.00' '799.00' '689.00' '1329.00' '2979.00'\n",
      " '2799.00' '1299.00' '1849.00' '739.00' '469.00' '2279.00' '1439.00'\n",
      " '909.99' '1799.00' '1659.00' '369.00' '2709.00' '1979.00' '2899.00'\n",
      " '979.00' '859.00' '829.00' '1619.00' '1559.00' '1149.00' '2049.00'\n",
      " '1899.00' '2149.00' '949.00' '559.00' '1349.00' '1719.00' '279.00'\n",
      " '1249.00' '2249.00' '519.00' '169.00' '229.00' '3849.00' '1389.00'\n",
      " '699.00' '579.00' '1069.00' '1319.00' '1869.00' '779.00' '3599.00'\n",
      " '749.00' '929.00' '479.99' '1499.99' '2209.00' '1259.00' '1769.00'\n",
      " '699.99' '1199.99' '2339.99' '1589.00' '1559.99' '2449.00' '2299.00'\n",
      " '2159.99' '1859.00' '2079.00' '849.00']\n"
     ]
    }
   ],
   "source": [
    "print(pc_data['price'].unique())"
   ]
  },
  {
   "cell_type": "code",
   "execution_count": 19,
   "id": "1258aa91",
   "metadata": {},
   "outputs": [
    {
     "name": "stdout",
     "output_type": "stream",
     "text": [
      "<class 'pandas.core.frame.DataFrame'>\n",
      "RangeIndex: 374 entries, 0 to 373\n",
      "Data columns (total 5 columns):\n",
      " #   Column       Non-Null Count  Dtype \n",
      "---  ------       --------------  ----- \n",
      " 0   brand        374 non-null    object\n",
      " 1   details      374 non-null    object\n",
      " 2   price        374 non-null    object\n",
      " 3   delivery     374 non-null    object\n",
      " 4   description  374 non-null    object\n",
      "dtypes: object(5)\n",
      "memory usage: 14.7+ KB\n",
      "None\n"
     ]
    }
   ],
   "source": [
    "print(pc_data.info())"
   ]
  },
  {
   "cell_type": "code",
   "execution_count": 20,
   "id": "9baeb74f",
   "metadata": {},
   "outputs": [
    {
     "data": {
      "text/plain": [
       "array(['FAST delivery', 'Delivery not available',\n",
       "       'Not available for delivery', 'Standard delivery available'],\n",
       "      dtype=object)"
      ]
     },
     "execution_count": 20,
     "metadata": {},
     "output_type": "execute_result"
    }
   ],
   "source": [
    "pc_data['delivery'].unique()"
   ]
  },
  {
   "cell_type": "code",
   "execution_count": 21,
   "id": "fe4f4653",
   "metadata": {},
   "outputs": [
    {
     "name": "stdout",
     "output_type": "stream",
     "text": [
      "['yes' 'no']\n"
     ]
    }
   ],
   "source": [
    "pc_data['delivery'] = pc_data['delivery'].str.replace('FAST delivery','yes')\n",
    "pc_data['delivery'] = pc_data['delivery'].str.replace('Not available for delivery','no')\n",
    "pc_data['delivery'] = pc_data['delivery'].str.replace('Delivery not available','no')\n",
    "pc_data['delivery'] = pc_data['delivery'].str.replace('Standard delivery available','yes')\n",
    "print(pc_data['delivery'].unique())"
   ]
  },
  {
   "cell_type": "code",
   "execution_count": 22,
   "id": "0e71eafd",
   "metadata": {},
   "outputs": [
    {
     "name": "stdout",
     "output_type": "stream",
     "text": [
      "    brand                                            details   price delivery  \\\n",
      "0      HP  Pavilion 14-dv1629sa 14\" Laptop - Intel® Core™...  649.00      yes   \n",
      "1    DELL  Inspiron 15 3000 15.6\" Laptop - Intel® Core™ i...  529.00      yes   \n",
      "2    ACER  314 14\" Chromebook - MediaTek MT8183C, 64 GB e...  379.00      yes   \n",
      "3  LENOVO  IdeaPad 3 14\" Chromebook - MediaTek MT8183, 64...  299.00      yes   \n",
      "4    ACER  Aspire 5 A514-54 14\" Laptop - Intel® Core™ i5,...  659.00      yes   \n",
      "\n",
      "                                         description  \n",
      "0  \\nWindows 11\\nIntel® Core™ i5-1155G7 Processor...  \n",
      "1  \\nFree Upgrade to Windows 11\\nIntel® Core™ i3-...  \n",
      "2  \\nChrome OS\\nMediaTek MT8183 Processor\\nRAM: 4...  \n",
      "3  \\nChrome OS\\nMediaTek MT8183 Processor\\nRAM: 4...  \n",
      "4  \\nFree Upgrade to Windows 11\\nIntel® Core™ i5-...  \n"
     ]
    }
   ],
   "source": [
    "print(pc_data.head())"
   ]
  },
  {
   "cell_type": "code",
   "execution_count": 23,
   "id": "6da75f51",
   "metadata": {},
   "outputs": [
    {
     "name": "stdout",
     "output_type": "stream",
     "text": [
      "0      \\nWindows 11\\nIntel® Core™ i5-1155G7 Processor...\n",
      "1      \\nFree Upgrade to Windows 11\\nIntel® Core™ i3-...\n",
      "2      \\nChrome OS\\nMediaTek MT8183 Processor\\nRAM: 4...\n",
      "3      \\nChrome OS\\nMediaTek MT8183 Processor\\nRAM: 4...\n",
      "4      \\nFree Upgrade to Windows 11\\nIntel® Core™ i5-...\n",
      "                             ...                        \n",
      "369    \\nFree Upgrade to Windows 11\\nIntel® Core™ i7-...\n",
      "370    \\nWindows 10 S\\nAMD Ryzen 3 4300U Processor\\nR...\n",
      "371    \\nChrome OS\\nMediaTek MT8183 Processor\\nRAM: 4...\n",
      "372    \\nFree Upgrade to Windows 11\\nIntel® Core™ i3-...\n",
      "373    \\nFree Upgrade to Windows 11\\nIntel® Core™ i7-...\n",
      "Name: description, Length: 374, dtype: object\n"
     ]
    }
   ],
   "source": [
    "print(pc_data['description'])"
   ]
  },
  {
   "cell_type": "markdown",
   "id": "9f77f29f",
   "metadata": {},
   "source": [
    "### creating Model_name column using details column."
   ]
  },
  {
   "cell_type": "code",
   "execution_count": 24,
   "id": "ad82e5fc",
   "metadata": {},
   "outputs": [],
   "source": [
    "pc_data[['model_name','excess']] = pc_data['details'].str.split(pat = ',',n=1,expand=True)"
   ]
  },
  {
   "cell_type": "code",
   "execution_count": 25,
   "id": "e6674618",
   "metadata": {},
   "outputs": [
    {
     "name": "stdout",
     "output_type": "stream",
     "text": [
      "<class 'pandas.core.frame.DataFrame'>\n",
      "RangeIndex: 374 entries, 0 to 373\n",
      "Data columns (total 7 columns):\n",
      " #   Column       Non-Null Count  Dtype \n",
      "---  ------       --------------  ----- \n",
      " 0   brand        374 non-null    object\n",
      " 1   details      374 non-null    object\n",
      " 2   price        374 non-null    object\n",
      " 3   delivery     374 non-null    object\n",
      " 4   description  374 non-null    object\n",
      " 5   model_name   374 non-null    object\n",
      " 6   excess       374 non-null    object\n",
      "dtypes: object(7)\n",
      "memory usage: 20.6+ KB\n"
     ]
    }
   ],
   "source": [
    "pc_data.info()"
   ]
  },
  {
   "cell_type": "code",
   "execution_count": 26,
   "id": "295dcc33",
   "metadata": {},
   "outputs": [],
   "source": [
    "pc_data.drop(columns=['excess'],inplace=True)"
   ]
  },
  {
   "cell_type": "code",
   "execution_count": 27,
   "id": "847b05ee",
   "metadata": {},
   "outputs": [
    {
     "name": "stdout",
     "output_type": "stream",
     "text": [
      "0      Pavilion 14-dv1629sa 14\" Laptop - Intel® Core™ i5\n",
      "1        Inspiron 15 3000 15.6\" Laptop - Intel® Core™ i3\n",
      "2                  314 14\" Chromebook - MediaTek MT8183C\n",
      "3             IdeaPad 3 14\" Chromebook - MediaTek MT8183\n",
      "4          Aspire 5 A514-54 14\" Laptop - Intel® Core™ i5\n",
      "                             ...                        \n",
      "369    XPS 15 9500 15.6\" Intel® Core™ i7 Laptop - 1 T...\n",
      "370                   IdeaPad 3 14\" Laptop - AMD Ryzen 3\n",
      "371               11a 11.6\" Chromebook - MediaTek MT8183\n",
      "372       VivoBook X712EA 17.3\" Laptop - Intel® Core™ i3\n",
      "373         VivoBook X415JA 14\" Laptop - Intel® Core™ i7\n",
      "Name: model_name, Length: 374, dtype: object\n"
     ]
    }
   ],
   "source": [
    "print(pc_data['model_name'])"
   ]
  },
  {
   "cell_type": "code",
   "execution_count": 28,
   "id": "f474fe16",
   "metadata": {},
   "outputs": [
    {
     "name": "stdout",
     "output_type": "stream",
     "text": [
      "['Pavilion 14-dv1629sa 14\" Laptop - Intel® Core™ i5'\n",
      " 'Inspiron 15 3000 15.6\" Laptop - Intel® Core™ i3'\n",
      " '314 14\" Chromebook - MediaTek MT8183C'\n",
      " 'IdeaPad 3 14\" Chromebook - MediaTek MT8183'\n",
      " 'Aspire 5 A514-54 14\" Laptop - Intel® Core™ i5'\n",
      " '15s-fq4553sa 15.6\" Laptop - Intel® Core™ i5'\n",
      " 'MacBook Air 13.3\" (2020) - M1'\n",
      " 'Stream 11-ak0512sa 11.6\" Laptop - Intel® Celeron™'\n",
      " 'C202 11.6\" Chromebook - 32 GB eMMC'\n",
      " 'Stream 11-ak0513sa 11.6\" Laptop - Intel® Celeron™'\n",
      " '15-dw1513sa 15.6\" Laptop - Intel® Core™ i3'\n",
      " 'IdeaPad 3i 14\" Laptop - Intel® Core™ i5'\n",
      " 'IdeaPad 3 15.6\" Laptop - AMD Athlon Gold'\n",
      " 'Swift 1 14\" Laptop - Intel® Pentium™'\n",
      " 'Pavilion 15-eh0523sa 15.6\" Laptop - AMD Ryzen 5'\n",
      " '715 15.6\" Chromebook - Intel® Pentium®'\n",
      " 'Inspiron 15 3511 15.6\" Laptop - Intel® Core™ i5'\n",
      " 'MacBook Pro 13.3\" (2020) - M1' 'C223 11.6\" Chromebook - Intel® Celeron®'\n",
      " 'Inspiron 15 3000 15.6\" Laptop - AMD Ryzen 5'\n",
      " '14a-na0500sa 14\" Chromebook - Intel® Celeron®'\n",
      " 'Aspire 3 15.6\" Laptop - Intel® Core™ i7'\n",
      " 'Inspiron 15 3502 15.6\" Laptop - Intel® Pentium®'\n",
      " 'Aspire 5 A515-45 15.6\" Laptop - AMD Ryzen 5'\n",
      " 'VivoBook F515EA 15.6\" Laptop - Intel® Core™ i3'\n",
      " 'Aspire 3 15.6\" Laptop - Intel® Core™ i5'\n",
      " 'x360 12b-ca0500na 12\" 2 in 1 Chromebook - Intel® Celeron®'\n",
      " 'XPS 13 9305 13.3\" Laptop - Intel® Core™ i7'\n",
      " 'Aspire 1 14\" Laptop - Intel® Celeron™'\n",
      " '17-cp0501na 17.3\" Laptop - AMD Ryzen 5'\n",
      " 'MacBook Pro 16\" (2021) - M1 Pro'\n",
      " 'Galaxy Book 15.6\" Laptop - Intel® Core™ i5'\n",
      " 'Inspiron 15 5518 15.6\" Laptop - Intel® Core™ i7'\n",
      " 'Pavilion 14-dv0622sa 14\" Laptop - Intel® Pentium® Gold'\n",
      " 'Stream 14s-dq0505sa 14\" Laptop - Intel® Celeron®'\n",
      " 'Pavilion x360 14\" 2 in 1 Laptop - Intel® Core™ i7'\n",
      " 'VivoBook F415 14\" Laptop - Intel® Pentium® Gold'\n",
      " 'ZenBook 15 UX534FAC 15.6\" Laptop - Intel® Core™ i7'\n",
      " '10.5\" Surface Go 3 - Intel® Pentium®'\n",
      " 'ENVY 17-ch0500sa 17.3\" Laptop - Intel® Core™ i7'\n",
      " 'IdeaPad 3i 14\" Chromebook - Intel® Celeron®'\n",
      " 'Pavilion 14-dv0511sa 14\" Laptop - Intel® Core™ i3'\n",
      " 'Aspire 5 A517-52G 17.3\" Laptop - Intel® Core™ i7'\n",
      " 'Galaxy Book Pro 360 15.6\" 2 in 1 Laptop - Intel® Core™ i7'\n",
      " '17-cn0524na 17.3\" Laptop - Intel® Core™ i3'\n",
      " 'IdeaPad Duet 10.1\" 2 in 1 Chromebook - MediaTek P60T'\n",
      " 'XPS 13 9305 13.3\" Laptop - Intel® Core™ i5'\n",
      " 'Aspire 3 14\" Laptop - AMD Athlon'\n",
      " 'Yoga 6 13.3\" 2 in 1 Laptop - AMD Ryzen 7'\n",
      " 'Spin 311 11.6\" 2 in 1 Chromebook - 32 GB eMMC'\n",
      " 'Flip CM3200FM 12\" 2 in 1 Chromebook - MediaTek™ Processor'\n",
      " 'Yoga 6 13.3\" 2 in 1 Laptop - AMD Ryzen 5'\n",
      " 'IdeaPad Flex 5 14\" 2 in 1 Laptop - AMD Ryzen 5'\n",
      " 'E510MA 15.6\" Laptop - Intel® Celeron®'\n",
      " '12.5\" Surface Laptop Go - Intel® Core™ i5'\n",
      " 'XPS 15 9510 15.6\" Laptop - Intel® Core™ i7'\n",
      " 'Aspire 3 15.6\" Laptop - Intel® Core™ i3'\n",
      " 'Stream 14s-dq0506sa 14\" Laptop - Intel® Celeron®'\n",
      " 'ENVY x360 Convert 13.3\" 2 in 1 Laptop - Intel® Core™ i7'\n",
      " '17-cn0528sa 17.3\" Laptop - Intel® Pentium® Gold'\n",
      " 'Galaxy Book Go 14\" Laptop - Qualcomm Snapdragon 7C'\n",
      " 'Swift 3 14\" Laptop - Intel® Core™ i5'\n",
      " 'Pavilion 14-dv0598sa 14\" Laptop - Intel® Core™ i3'\n",
      " 'Pavilion x360 14-dy0517sa 14\" 2 in 1 Laptop - Intel® Core™ i5'\n",
      " '15s-eq2504sa 15.6\" Laptop - AMD Ryzen 5'\n",
      " 'Aspire 3 14\" Laptop - AMD Ryzen 5'\n",
      " 'IdeaPad 3i 11.6\" Chromebook - Intel® Celeron®'\n",
      " '14a-na0502sa  14\" Chromebook - Intel® Pentium® Silver'\n",
      " 'Spin 513 13.3\" 2 in 1 Chromebook - Qualcomm SC7180'\n",
      " '314 Touch 14\" Chromebook - MediaTek MT8183C'\n",
      " 'IdeaPad 3i 14\" Laptop - Intel® Core™ i7'\n",
      " 'IdeaPad 5i 14\" Laptop - Intel® Core™ i3'\n",
      " 'Stream 14s-dq0504sa 14\" Laptop - Intel® Celeron®'\n",
      " 'Yoga Slim 7i Pro 14\" Laptop - Intel® Core™ i7'\n",
      " 'IdeaPad 3 15.6\" Laptop - AMD 3020e'\n",
      " 'VivoBook Pro M3500QC 15.6\" Laptop - AMD Ryzen 9'\n",
      " 'IdeaPad Slim 1i 11.6\" Laptop - Intel® Celeron™'\n",
      " 'Aspire 5 A515-45 15.6\" Laptop - AMD Ryzen 3'\n",
      " 'Aspire 5 A517-52G 17.3\" Laptop - Intel® Core™ i5'\n",
      " 'Swift 3 16.1\" Laptop - Intel® Core™ i7'\n",
      " '14s-dq2502na 14\" Laptop - Intel® Pentium® Gold'\n",
      " 'Aspire 5 A515-45 15.6\" Laptop - AMD Ryzen 7'\n",
      " 'ZenBook 13 UX325EA 13.3\" Laptop - Intel® Core™ i5'\n",
      " 'IdeaPad 3 14\" Laptop - AMD Athlon Gold'\n",
      " 'Spectre x360 13.5\" 2 in 1 Laptop - Intel® Core™ i7'\n",
      " 'E410MA 14\" Laptop - Intel® Celeron®'\n",
      " 'Spin 1 14\" 2 in 1 Laptop - Intel® Pentium® Silver'\n",
      " 'IdeaPad 3i 17.3\" Laptop - Intel® Celeron®'\n",
      " 'Pavilion x360 14-dy0505na 14\" 2 in 1 Laptop - Intel® Core™ i3'\n",
      " 'Pavilion 14-dv0564sa 14\" Laptop - Intel® Core™ i7'\n",
      " 'ZenBook Duo UX482EG 14\" Laptop - Intel® Core™ i7'\n",
      " 'Pavilion 14-dv0626sa 14\" Laptop - Intel® Core™ i3'\n",
      " 'XPS 13 9310 13.4\" Laptop - Intel® Core™ i7'\n",
      " 'Inspiron 16 Plus 7610 16\" Laptop - Intel® Core™ i7'\n",
      " 'Swift 3 14\" Laptop - AMD Ryzen 3'\n",
      " 'S330 14\" Chromebook - MediaTek MT8173C'\n",
      " 'IdeaPad Flex 3i 11.6\" 2 in 1 Laptop - Intel® Celeron®'\n",
      " 'IdeaPad 3i 14\" Laptop - Intel® Core™ i3'\n",
      " 'Inspiron 14 5415 14\" Laptop - AMD Ryzen 5'\n",
      " 'XPS 17 9710 17\" Laptop - Intel® Core™ i9'\n",
      " 'Spin 3 13.3\" 2 in 1 Laptop - Intel® Core™ i5'\n",
      " 'Inspiron 14 5410 14\" 2 in 1 Laptop - Intel® Core™ i5'\n",
      " 'Pavilion 15-eh0525na 15.6\" Laptop - AMD Athlon'\n",
      " 'IdeaPad 5iPro 14\" Laptop - Intel® Core™ i5'\n",
      " 'Spin 311 11.6” 2 in 1 Chromebook - Intel® Celeron®'\n",
      " 'Pavilion 15-eh0524na 15.6\" Laptop - AMD Athlon'\n",
      " 'VivoBook X705MA 17.3\" Laptop - Intel® Pentium™ Silver'\n",
      " 'IdeaPad Duet 5 13.3\" 2 in 1 Chromebook - Qualcomm Snapdragon'\n",
      " 'ENVY x360 Convert 15-eu0500na 15.6\" 2 in 1 Laptop - AMD Ryzen 5'\n",
      " 'IdeaPad Duet 3i 10.3\" 2 in 1 Laptop - Intel® Celeron®'\n",
      " 'ZenBook UX425EA 14\" Laptop - Intel® Core™ i5'\n",
      " '15s-eq1516sa 15.6\" Laptop - AMD Ryzen 3'\n",
      " '14a-na0509sa 14\" Chromebook - Intel® Pentium® Silver'\n",
      " 'Galaxy Book Pro 360 13.3\" 2 in 1 Laptop - Intel® Core™ i5'\n",
      " 'IdeaPad 5i Pro 16\" Laptop - Intel® Core™ i5'\n",
      " '13\" Surface Pro 8 - Intel® Core™ i5'\n",
      " 'Pavilion 15-eh0511sa 15.6\" Laptop - AMD Ryzen 5'\n",
      " 'Inspiron 14 5415 14\" Laptop - AMD Ryzen 7'\n",
      " '15\" Surface Laptop 4 - Intel® Core™ i7'\n",
      " 'Zenbook Flip UX363EA 13.3\" 2 in 1 Laptop - Intel® Core™ i5'\n",
      " 'C523 15.6\" Chromebook - Intel® Celeron™'\n",
      " '10.5\" Surface Go 3 - Intel® Core™ i3'\n",
      " '15\" Surface Laptop 4 - AMD Ryzen 7'\n",
      " 'Inspiron 14 7415 14\" 2 in 1 Laptop - AMD Ryzen 7'\n",
      " 'Aspire 3 A314-22 14\" Laptop - AMD Ryzen 3'\n",
      " 'Swift 3 14\" Laptop - AMD Ryzen 5'\n",
      " 'VivoBook M515UA 15.6\" Laptop - AMD Ryzen 5'\n",
      " 'Galaxy Book Pro 15.6\" Laptop - Intel® Core™ i7'\n",
      " 'XPS 15 9510 15.6\" Laptop - Intel® Core™ i9'\n",
      " 'ENVY 13-ba1565sa 13.3\" Laptop - Intel® Core™ i7'\n",
      " 'VivoBook Flip ETP401MA 14\" 2 in 1 Laptop - Intel® Celeron®'\n",
      " 'Spin 513 LTE 13.3\" 2 in 1 Chromebook - Qualcomm SC7180'\n",
      " 'ENVY 15-ep1503na 15.6\" Laptop - Intel® Core™ i7'\n",
      " 'IdeaPad 3i 17.3\" Laptop - Intel® Pentium® Gold' '715 15.6\" Chromebook'\n",
      " '317 17.3\" Chromebook - Intel® Celeron®'\n",
      " 'Spectre x360 13-aw2501na 13.3\" 2 in 1 Laptop - Intel® Core™ i7'\n",
      " 'Galaxy Book Pro 15.6\" Laptop - Intel® Core™ i5'\n",
      " 'Swift 5 SF514-55T 14\" Laptop - Intel® Core™ i5'\n",
      " 'ProBook 430 G8 15.6\" Laptop - Intel® Core™ i5'\n",
      " 'Aspire 5 A514-54 14\" Laptop - Intel® Core™ i3'\n",
      " 'IdeaPad 3i 14\" Laptop - Intel® Celeron®'\n",
      " 'IdeaPad Flex 3 11.6\" 2 in 1 Chromebook - MediaTek MT8183'\n",
      " 'IdeaPad 3 15.6\" Laptop - AMD Ryzen 3'\n",
      " '13\" Surface Pro 8 - Intel® Core™ i7'\n",
      " 'Galaxy Book Pro 13.3\" Laptop - Intel® Core™ i5'\n",
      " 'XPS 13 13.4\" 2 in 1 Laptop - Intel® Core™ i7'\n",
      " 'IdeaPad 5i 14\" Chromebook - Intel® Core™ i5'\n",
      " 'Spin 713 13.5\" 2 in 1 Chromebook - Intel® Core™ i5'\n",
      " '13.5\" Surface Laptop 4 - Intel® Core™ i5'\n",
      " '315 15.6\" Chromebook - Intel® Celeron®'\n",
      " 'IdeaPad 3i 15.6\" Chromebook - Intel® Pentium®'\n",
      " 'XPS 17 9710 17\" Laptop - Intel® Core™ i7'\n",
      " 'Spectre x360 14-ea0519na 13.5\" 2 in 1 Laptop - Intel® Core™ i5'\n",
      " '13.5\" Surface Laptop 4 - Intel® Core™ i7'\n",
      " 'ENVY 15-ep1512na 15.6\" Laptop - Intel® Core™ i9'\n",
      " 'Aspire 5 A514-54 14\" Laptop - Intel® Core™ i7'\n",
      " 'Galaxy Book LTE 15.6\" Laptop - Intel® Core™ i5'\n",
      " 'x360 14c-cc0505sa 14\" 2 in 1 Chromebook - Intel® Core i5'\n",
      " 'x2 11-da0502na 11\" 2 in 1 Chromebook - Qualcomm Snapdragon'\n",
      " 'VivoBook X515FA 15.6\" Laptop - Intel® Core™ i3'\n",
      " 'IdeaPad 5i 14\" Chromebook - Intel® Pentium® Gold'\n",
      " 'Galaxy Book Pro 360 5G 13.3\" 2 in 1 Laptop - Intel® Core™ i5'\n",
      " 'Zenbook Flip UX363EA 13.3\" 2 in 1 Laptop - Intel® Core™ i7'\n",
      " '13.5\" Surface Laptop 4 - AMD Ryzen 5'\n",
      " 'ENVY 15-ep1504na 15.6\" Laptop - Intel® Core™ i7'\n",
      " '515 15.6\" Chromebook & Mouse Bundle - Intel® Pentium®'\n",
      " '8.3\" Surface Duo 2 - 128 GB UFS'\n",
      " '515 15.6\" Chromebook & Mouse Bundle - Intel® Core™ i3'\n",
      " 'ZenBook 14 UX5401EA 14\" Laptop - Intel® Core™ i5'\n",
      " '514 14\" Chromebook - Intel® Pentium® Gold'\n",
      " 'ZenBook 13 UX325EA 13.3\" Laptop - Intel® Core™ i7'\n",
      " 'Pavilion 14-ec0531sa 14\" Laptop - AMD Ryzen 7'\n",
      " 'Zenbook S UX393 13.9\" Laptop - Intel® Core™ i7'\n",
      " 'Spin 3 13.3\" 2 in 1 Laptop - Intel® Core™ i7'\n",
      " 'IdeaPad Flex 3i 11.6\" 2 in 1 Chromebook - Intel® Celeron®'\n",
      " 'ENVY x360 Convert 13.3\" 2 in 1 Laptop - Intel® Core™ i5'\n",
      " 'Latitude 7420 14\" Laptop - Intel® Core™ i5'\n",
      " 'IdeaPad 5i 14\" Chromebook - Intel® Core™ i3'\n",
      " 'Pavilion 15-eh0507sa 15.6\" Laptop - AMD Ryzen 3'\n",
      " 'CX9 14\" Chromebook - Intel® Core™ i7'\n",
      " 'Inspiron 13 5310 13.3\" Laptop - Intel® Core™ i7'\n",
      " 'Spin 514 14\" 2 in 1 Chromebook - AMD Ryzen 3'\n",
      " 'Spin 713 13.5\" 2 in 1 Chromebook - Intel® Core™ i3'\n",
      " '15\" Surface Laptop 3 - AMD Ryzen 5'\n",
      " 'MateBook 14S 14.2\" Laptop - Intel® Core™ i7'\n",
      " 'x2 11-da0504na 11\" 2 in 1 Chromebook - Qualcomm Snapdragon'\n",
      " 'IdeaPad 3i 14\" Laptop - Intel® Pentium® Gold'\n",
      " 'MateBook D 15.6\" Laptop - Intel® Core™ i5'\n",
      " 'ZenBook Duo UX482EA 14\" Laptop - Intel® Core™ i7'\n",
      " 'VivoBook K553 15.6\" Laptop - Intel® Core™ i5'\n",
      " 'Spin 514 14\" 2 in 1 Chromebook - AMD Ryzen 5'\n",
      " '8.3\" Surface Duo 2 - 256 GB UFS'\n",
      " 'CX15 15.6\" Chromebook - Intel® Celeron™'\n",
      " 'CX15 15.6\" Chromebook - Intel® Pentium®'\n",
      " 'Stream 11-ak0514sa 11.6\" Laptop - Intel® Celeron™'\n",
      " 'E210MA 11.6\" Laptop - Intel® Celeron®'\n",
      " 'ENVY x360 15.6\" 2 in 1 Laptop - AMD Ryzen 7'\n",
      " 'MacBook Pro 14\" (2021) - M1 Pro'\n",
      " 'VivoBook F515JA 15.6\" Laptop - Intel® Core™ i5'\n",
      " 'Yoga 7i 15.6\" 2 in 1 Laptop - Intel® Core™ i7'\n",
      " '12.3\" Surface Pro 7+ - Intel® Core™ i5'\n",
      " '14s-dq2514na 14\" Laptop - Intel® Core i7'\n",
      " 'Galaxy Book 15.6\" Laptop - Intel® Core™ i7'\n",
      " 'Aspire 5 A515-56G 15.6\" Laptop - Intel® Core™ i7'\n",
      " 'Inspiron 15 5518 15.6\" Laptop - Intel® Core™ i5'\n",
      " 'Flip C214MA 11.6\" 2 in 1 Chromebook - Intel® Celeron®'\n",
      " 'Pavilion x360 14-dy0502sa 14\" 2 in 1 Laptop - Intel® Pentium™ Gold'\n",
      " 'IdeaPad Flex 5i 13.3\" 2 in 1 Chromebook - Intel® Core™ i3'\n",
      " '11a-na0502sa 11.6\" Chromebook - MediaTek MT8183'\n",
      " 'IdeaPad 3i 15.6\" Laptop - Intel® Celeron®'\n",
      " 'Swift 5 SF514-55T 14\" Laptop - Intel® Core™ i7'\n",
      " 'IdeaPad 5 Pro 16\" Laptop - AMD Ryzen 7'\n",
      " 'Swift 3 14\" Laptop - AMD Ryzen 7' 'MacBook Pro 16\" (2021) - M1 Max'\n",
      " '13\" Surface Pro 8 & Signature Typecover Bundle -  Intel® Core™ i5'\n",
      " 'Pavilion 14-dv0603na 14\" Laptop - Intel® Pentium® Gold'\n",
      " '14s-dq2512na 14\" Laptop - Intel® Core™ i5'\n",
      " '14s-dq2507na 14\" Laptop - Intel® Core™ i3'\n",
      " 'Pavilion 14-dv0602sa 14\" Laptop - Intel® Core™ i5'\n",
      " 'ZenBook UX425EA 14\" Laptop - Intel® Core™ i3'\n",
      " '14s-dq2510na 14\" Laptop - Intel® Core™ i3'\n",
      " 'IdeaPad 1i 14\" Laptop - Intel® Celeron™'\n",
      " 'Yoga Slim 7i Pro 14\" Laptop - Intel® Core™ i5'\n",
      " 'ENVY 13-ba1561sa 13.3\" Laptop - Intel® Core™ i5'\n",
      " 'IdeaPad Flex 5i 13.3\" 2 in 1 Chromebook - Intel® Core™ i5'\n",
      " 'Aspire Vero AV15-51 15.6\" Laptop - Intel® Core™ i7'\n",
      " 'Yoga 7i 15.6\" 2 in 1 Laptop - Intel® Core™ i5'\n",
      " '13\" Surface Pro 8 & Signature Typecover Bundle - Intel® Core™ i7'\n",
      " 'Aspire 3 15.6\" Laptop - Intel® Pentium® Silver'\n",
      " 'Pavilion 14-dv0521sa 14\" Laptop - Intel® Core™ i5'\n",
      " 'ZenBook Pro Duo UX582 15.6\" Laptop - Intel® Core™ i9'\n",
      " 'Pavilion 14-dv0607na 14\" Laptop - Intel® Pentium® Gold'\n",
      " 'ENVY 14-eb0505na 14\" Laptop - Intel® Core™ i5'\n",
      " 'MateBook D 15.6\" Laptop - Intel® Core™ i3'\n",
      " '15s-eq2510sa 15.6\" Laptop - AMD Ryzen 7' '10.5\" Surface Go 2 - 64 GB'\n",
      " '250 G8 15.6\" Laptop - Intel® Core™ i5'\n",
      " 'Aspire 5 A515-56G 15.6\" Laptop - Intel® Core™ i5'\n",
      " 'x360 14c-cc0500sa 14\" 2 in 1 Chromebook - Intel® Core i3'\n",
      " '15s-eq1542sa 15.6\" Laptop - AMD 3020e'\n",
      " 'Aspire Vero AV15-51 15.6\" Laptop - Intel® Core™ i5'\n",
      " 'Spectre x360 13.3\" 2 in 1 Laptop - Intel® Core™ i7'\n",
      " 'VivoBook X515JA 15.6\" Laptop - Intel® Core™ i5'\n",
      " 'Swift 3 16.1\" Laptop - Intel® Core™ i5'\n",
      " 'Pavilion Aero 13-be0506sa 13.3\" Laptop - AMD Ryzen 7'\n",
      " '14s-fq0000na 14\" Laptop - AMD Ryzen 5' 'Yoga 7 14\" Laptop - AMD Ryzen 5'\n",
      " 'Yoga 7 14\" 2 in 1 Laptop - AMD Ryzen 7'\n",
      " 'Pavilion 15-eh0522sa 15.6\" Laptop - AMD Ryzen 3'\n",
      " 'x360 14b-cb0502sa 14\" 2 in 1 Chromebook - Intel® Pentium® Silver'\n",
      " '14\" Chromebook - AMD A4'\n",
      " 'ENVY x360 15.6\" 2 in 1 Laptop - Intel® Core™ i7'\n",
      " 'x360 14b-cb0500sa 14\" 2 in 1 Chromebook - Intel® Pentium® Silver'\n",
      " '14b-na0502na 14\" Chromebook - AMD Ryzen 5'\n",
      " 'Pavilion 14-dv0609sa 14\" Laptop - Intel® Pentium® Gold'\n",
      " '13.5\" Surface Laptop 3 - Intel® Core™ i5 256 GB'\n",
      " '14b-na0501na 14\" Chromebook - AMD Ryzen 3'\n",
      " 'ZenBook 13 Flip UX363JA 13.3\" 2 in 1 Laptop - Intel® Core™ i5'\n",
      " '13.5\" Surface Laptop 3 - Intel® Core™ i5'\n",
      " '15s-eq1521sa 15.6\" Laptop - AMD A3020e'\n",
      " 'Pavilion 14-dv0595sa 14\" Laptop - Intel® Core™ i3'\n",
      " 'Inspiron 14 5406 14\" 2 in 1 Laptop - Intel® Core™ i3'\n",
      " 'VivoBook S413JA 14\" Laptop - Intel® Core™ i3'\n",
      " 'Spectre x360 15.6\" 2 in 1 Laptop - Intel® Core™ i7'\n",
      " 'ENVY x360 15-ed1504na 15.6\" 2 in 1 Laptop - Intel® Core™ i5'\n",
      " 'VivoBook X712EA 17.3\" Laptop - Intel® Core™ i7'\n",
      " 'VivoBook Classic 14\" Laptop - Intel® Core™ i7'\n",
      " 'Galaxy Book Pro 360 15.6\" 2 in 1 Laptop - Intel® Core™ i5'\n",
      " 'Aspire 5 A514-53 14\" Laptop - Intel® Core™ i5'\n",
      " 'Spectre x360 15-eb0501na 15.6\" 2 in 1 Laptop - Intel® Core™ i7'\n",
      " 'MacBook Pro 13.3\" (2020) - Intel® Core™ i5'\n",
      " 'Galaxy Book Ion 15.6\" Laptop - Intel® Core™ i5'\n",
      " 'ENVY x360 Convert 15-es0504na 15.6\" 2 in 1 Laptop - Intel® Core™ i7'\n",
      " 'VivoBook X513EA 15.6\" Laptop - Intel® Core™ i5'\n",
      " 'Inspiron 15 5502 15.6\" Laptop - Intel® Core™ i5'\n",
      " 'Inspiron 15 3505 15.6\" Laptop - AMD Ryzen 7'\n",
      " '15-gw0502sa 15.6\" Laptop - AMD Athlon'\n",
      " '15” Surface Laptop 3 - AMD Ryzen 5' '15\" Surface Laptop 3 - AMD Ryzen 7'\n",
      " 'Zenbook S Flip UX371EA 13.3\" 2 in 1 Laptop - Intel® Core™ i7'\n",
      " 'Yoga 9i 14\" 2 in 1 Laptop - Intel® Core™ i7'\n",
      " 'Latitude 3420 14\" Laptop - Intel® Core™ i5'\n",
      " '15s-eq2526sa 15.6\" Laptop - AMD Ryzen 5'\n",
      " '13.5\" Surface Laptop 3 - Intel® Core™ i7'\n",
      " 'XPS 15 9500 15.6\" Intel® Core™ i7 Laptop - 1 TB SSD'\n",
      " 'IdeaPad 3 14\" Laptop - AMD Ryzen 3'\n",
      " '11a 11.6\" Chromebook - MediaTek MT8183'\n",
      " 'VivoBook X712EA 17.3\" Laptop - Intel® Core™ i3'\n",
      " 'VivoBook X415JA 14\" Laptop - Intel® Core™ i7']\n"
     ]
    }
   ],
   "source": [
    "print(pc_data['model_name'].unique())"
   ]
  },
  {
   "cell_type": "code",
   "execution_count": 29,
   "id": "71055f65",
   "metadata": {},
   "outputs": [],
   "source": [
    "pc_data[['model_name_real','excess']] = pc_data['model_name'].str.rsplit(pat = '-',n=1,expand=True)\n",
    "pc_data.drop(columns=['excess','model_name'],inplace=True)"
   ]
  },
  {
   "cell_type": "code",
   "execution_count": 30,
   "id": "30a7383e",
   "metadata": {},
   "outputs": [
    {
     "name": "stdout",
     "output_type": "stream",
     "text": [
      "<class 'pandas.core.frame.DataFrame'>\n",
      "RangeIndex: 374 entries, 0 to 373\n",
      "Data columns (total 6 columns):\n",
      " #   Column           Non-Null Count  Dtype \n",
      "---  ------           --------------  ----- \n",
      " 0   brand            374 non-null    object\n",
      " 1   details          374 non-null    object\n",
      " 2   price            374 non-null    object\n",
      " 3   delivery         374 non-null    object\n",
      " 4   description      374 non-null    object\n",
      " 5   model_name_real  374 non-null    object\n",
      "dtypes: object(6)\n",
      "memory usage: 17.7+ KB\n"
     ]
    }
   ],
   "source": [
    "pc_data.info()"
   ]
  },
  {
   "cell_type": "code",
   "execution_count": 31,
   "id": "b0f04fff",
   "metadata": {},
   "outputs": [
    {
     "name": "stdout",
     "output_type": "stream",
     "text": [
      "0               Pavilion 14-dv1629sa 14\" Laptop \n",
      "1                 Inspiron 15 3000 15.6\" Laptop \n",
      "2                            314 14\" Chromebook \n",
      "3                      IdeaPad 3 14\" Chromebook \n",
      "4                   Aspire 5 A514-54 14\" Laptop \n",
      "                         ...                    \n",
      "369    XPS 15 9500 15.6\" Intel® Core™ i7 Laptop \n",
      "370                        IdeaPad 3 14\" Laptop \n",
      "371                        11a 11.6\" Chromebook \n",
      "372                VivoBook X712EA 17.3\" Laptop \n",
      "373                  VivoBook X415JA 14\" Laptop \n",
      "Name: model_name_real, Length: 374, dtype: object\n"
     ]
    }
   ],
   "source": [
    "print(pc_data['model_name_real'])"
   ]
  },
  {
   "cell_type": "code",
   "execution_count": 32,
   "id": "37d474c2",
   "metadata": {},
   "outputs": [],
   "source": [
    "pc_data.rename({'model_name_real':'model_name'},axis=1,inplace=True)"
   ]
  },
  {
   "cell_type": "code",
   "execution_count": 33,
   "id": "7d4ba027",
   "metadata": {},
   "outputs": [
    {
     "name": "stdout",
     "output_type": "stream",
     "text": [
      "<class 'pandas.core.frame.DataFrame'>\n",
      "RangeIndex: 374 entries, 0 to 373\n",
      "Data columns (total 6 columns):\n",
      " #   Column       Non-Null Count  Dtype \n",
      "---  ------       --------------  ----- \n",
      " 0   brand        374 non-null    object\n",
      " 1   details      374 non-null    object\n",
      " 2   price        374 non-null    object\n",
      " 3   delivery     374 non-null    object\n",
      " 4   description  374 non-null    object\n",
      " 5   model_name   374 non-null    object\n",
      "dtypes: object(6)\n",
      "memory usage: 17.7+ KB\n",
      "None\n"
     ]
    }
   ],
   "source": [
    "print(pc_data.info())"
   ]
  },
  {
   "cell_type": "markdown",
   "id": "5ebb5265",
   "metadata": {},
   "source": [
    "### creating colour column using details column."
   ]
  },
  {
   "cell_type": "code",
   "execution_count": 34,
   "id": "009ebaf9",
   "metadata": {},
   "outputs": [],
   "source": [
    "pc_data[['details','colour']] = pc_data['details'].str.rsplit(',',n=1,expand=True)"
   ]
  },
  {
   "cell_type": "code",
   "execution_count": 35,
   "id": "ea2a5546",
   "metadata": {},
   "outputs": [
    {
     "name": "stdout",
     "output_type": "stream",
     "text": [
      "[' Silver' ' Black' ' Blue' ' Black & Silver' ' Space Grey' ' White'\n",
      " ' Grey & Black' ' Grey' ' Mystic Silver' ' Platinum' ' Mystic Navy'\n",
      " ' Blue & Grey' ' Abyss Blue' ' Gold' ' White & Rose Gold'\n",
      " ' Graphite Grey' ' Abyss Blue Fabric' ' Red' ' Sandstone' ' Graphite'\n",
      " ' Slate Green' ' Matte Black' ' Obsidian' ' Ice Blue' ' Glacier' ' Pink'\n",
      " ' Slate Grey']\n"
     ]
    }
   ],
   "source": [
    "print(pc_data['colour'].unique())"
   ]
  },
  {
   "cell_type": "code",
   "execution_count": 36,
   "id": "2a3cf8a9",
   "metadata": {},
   "outputs": [
    {
     "name": "stdout",
     "output_type": "stream",
     "text": [
      "['silver' 'black' 'blue' 'black & silver' 'space grey' 'white'\n",
      " 'grey & black' 'grey' 'mystic silver' 'platinum' 'mystic navy'\n",
      " 'blue & grey' 'abyss blue' 'gold' 'white & rose gold' 'graphite grey'\n",
      " 'abyss blue fabric' 'red' 'sandstone' 'graphite' 'slate green'\n",
      " 'matte black' 'obsidian' 'ice blue' 'glacier' 'pink' 'slate grey']\n"
     ]
    }
   ],
   "source": [
    "pc_data['colour'] = pc_data['colour'].str.strip()\n",
    "pc_data['colour'] = pc_data['colour'].str.lower()\n",
    "print(pc_data['colour'].unique())"
   ]
  },
  {
   "cell_type": "code",
   "execution_count": 37,
   "id": "918e2a91",
   "metadata": {},
   "outputs": [],
   "source": [
    "pc_data.drop(columns=['details'],inplace=True)"
   ]
  },
  {
   "cell_type": "code",
   "execution_count": 38,
   "id": "e494bc50",
   "metadata": {},
   "outputs": [
    {
     "name": "stdout",
     "output_type": "stream",
     "text": [
      "<class 'pandas.core.frame.DataFrame'>\n",
      "RangeIndex: 374 entries, 0 to 373\n",
      "Data columns (total 6 columns):\n",
      " #   Column       Non-Null Count  Dtype \n",
      "---  ------       --------------  ----- \n",
      " 0   brand        374 non-null    object\n",
      " 1   price        374 non-null    object\n",
      " 2   delivery     374 non-null    object\n",
      " 3   description  374 non-null    object\n",
      " 4   model_name   374 non-null    object\n",
      " 5   colour       374 non-null    object\n",
      "dtypes: object(6)\n",
      "memory usage: 17.7+ KB\n"
     ]
    }
   ],
   "source": [
    "pc_data.info()"
   ]
  },
  {
   "cell_type": "code",
   "execution_count": 39,
   "id": "cdd0c80c",
   "metadata": {},
   "outputs": [],
   "source": [
    "pc_data['description'] = pc_data['description'].str.strip()"
   ]
  },
  {
   "cell_type": "code",
   "execution_count": 40,
   "id": "ee84fb3b",
   "metadata": {},
   "outputs": [],
   "source": [
    "pc_data['description'] = pc_data['description'].str.replace('Everyday: All-rounder for work and play','')\n",
    "pc_data['description'] = pc_data['description'].str.replace('Social: Basic computing on the go','')\n",
    "pc_data['description'] = pc_data['description'].str.replace('Achieve: Fast computing with the latest tech','')\n",
    "pc_data['description'] = pc_data['description'].str.strip()"
   ]
  },
  {
   "cell_type": "code",
   "execution_count": 41,
   "id": "35f926e0",
   "metadata": {},
   "outputs": [],
   "source": [
    "pc_data[['operating_system','excess']] = pc_data['description'].str.split(pat = '\\n',n=1,expand=True)"
   ]
  },
  {
   "cell_type": "markdown",
   "id": "a8d439db",
   "metadata": {},
   "source": [
    "### creating operating_system column using description column."
   ]
  },
  {
   "cell_type": "code",
   "execution_count": 42,
   "id": "9048c7ea",
   "metadata": {},
   "outputs": [
    {
     "data": {
      "text/plain": [
       "array(['Windows 11', 'Free Upgrade to Windows 11', 'Chrome OS',\n",
       "       'macOS 11.0 Big Sur', 'macOS 12.0 Monterey', 'Windows 11 S',\n",
       "       'Windows 10 S', 'Windows 10 Pro', 'Android 11', 'MacOS',\n",
       "       'Windows 10'], dtype=object)"
      ]
     },
     "execution_count": 42,
     "metadata": {},
     "output_type": "execute_result"
    }
   ],
   "source": [
    "pc_data['operating_system'].unique()"
   ]
  },
  {
   "cell_type": "code",
   "execution_count": 43,
   "id": "37b91abe",
   "metadata": {},
   "outputs": [
    {
     "name": "stdout",
     "output_type": "stream",
     "text": [
      "374\n"
     ]
    }
   ],
   "source": [
    "print(len(pc_data['operating_system']))"
   ]
  },
  {
   "cell_type": "code",
   "execution_count": 44,
   "id": "44440c69",
   "metadata": {},
   "outputs": [
    {
     "name": "stdout",
     "output_type": "stream",
     "text": [
      "<class 'pandas.core.frame.DataFrame'>\n",
      "RangeIndex: 374 entries, 0 to 373\n",
      "Data columns (total 8 columns):\n",
      " #   Column            Non-Null Count  Dtype \n",
      "---  ------            --------------  ----- \n",
      " 0   brand             374 non-null    object\n",
      " 1   price             374 non-null    object\n",
      " 2   delivery          374 non-null    object\n",
      " 3   description       374 non-null    object\n",
      " 4   model_name        374 non-null    object\n",
      " 5   colour            374 non-null    object\n",
      " 6   operating_system  374 non-null    object\n",
      " 7   excess            374 non-null    object\n",
      "dtypes: object(8)\n",
      "memory usage: 23.5+ KB\n"
     ]
    }
   ],
   "source": [
    "pc_data.info()"
   ]
  },
  {
   "cell_type": "markdown",
   "id": "3c89020a",
   "metadata": {},
   "source": [
    "### Creating processor and processor company columns from excess column which is created while cleaning description."
   ]
  },
  {
   "cell_type": "code",
   "execution_count": 45,
   "id": "543d2ed5",
   "metadata": {},
   "outputs": [],
   "source": [
    "pc_data[['Processor','data']] = pc_data['excess'].str.split(pat = '\\n',n=1,expand=True)"
   ]
  },
  {
   "cell_type": "code",
   "execution_count": 46,
   "id": "dba8ca89",
   "metadata": {},
   "outputs": [
    {
     "data": {
      "text/plain": [
       "374"
      ]
     },
     "execution_count": 46,
     "metadata": {},
     "output_type": "execute_result"
    }
   ],
   "source": [
    "len(pc_data['Processor'])"
   ]
  },
  {
   "cell_type": "code",
   "execution_count": 47,
   "id": "e024db45",
   "metadata": {},
   "outputs": [
    {
     "name": "stdout",
     "output_type": "stream",
     "text": [
      "['Intel® Core™ i5-1155G7 Processor' 'Intel® Core™ i3-1115G4 Processor'\n",
      " 'MediaTek MT8183 Processor' 'Intel® Core™ i5-1135G7 Processor'\n",
      " 'Apple M1 chip' 'Intel® Celeron® N4020 Processor'\n",
      " 'MediaTek MT8173C Processor' 'Intel® Core™ i3-10110U Processor'\n",
      " 'AMD Athlon Gold 3150U Processor'\n",
      " 'Intel® Pentium® Silver N6000 processor' 'AMD Ryzen 5 4500U Processor'\n",
      " 'Intel® Pentium® Gold 4417U Processor' 'Intel® Core™ i5-1035G1 Processor'\n",
      " 'Intel® Celeron® N3350 Processor' 'AMD Ryzen 5 3500U Processor'\n",
      " 'Intel® Core™ i7-1065G7 Processor'\n",
      " 'Intel® Pentium® Silver N5030 processor' 'AMD Ryzen 5 5500U Processor'\n",
      " 'Intel® Celeron® N4000 Processor' 'Intel® Evo™ platform'\n",
      " 'Intel® Celeron® N4500 Processor' 'Apple M1 Pro chip'\n",
      " 'Intel® Core™ i7-11390H Processor' 'Intel® Pentium® Gold 7505 Processor'\n",
      " 'Intel® Core™ i7-1165G7 Processor' 'Intel® Core™ i7-10510U Processor'\n",
      " 'Intel® Pentium® Gold 6500Y Processor' 'Intel® Core™ i3-1125G4 Processor'\n",
      " 'MediaTek P60T Processor' 'AMD Athlon Silver 3050U Processor'\n",
      " 'AMD Ryzen 7 5700U Processor' 'MediaTek\\xa0Kompanio\\xa08192 Processor'\n",
      " 'Intel® Core™ i7-11800H Processor' 'Qualcomm Snapdragon 7C Processor'\n",
      " 'Qualcomm SC7180 Processor' 'MediaTek MT8183C Processor'\n",
      " 'Intel® Core™ i3-1005G1 Processor' 'AMD A3020e Processor'\n",
      " 'AMD Ryzen 9 5900HX Processor' 'AMD Ryzen 3 5300U Processor'\n",
      " 'Intel® Core™ i7-11370H Processor' 'Intel® Celeron® 6305 Processor'\n",
      " 'Intel® Core™ i9-11900H Processor'\n",
      " 'Intel® Pentium® Silver N5000 processor' 'AMD Ryzen 3 3250U Processor'\n",
      " 'Intel® Core™ i5-11300H Processor' 'Intel® Core™ i7-1185G7 Processor'\n",
      " 'Intel® Core™ i3-10100Y Processor' 'AMD Ryzen 7 4980U Processor'\n",
      " 'Intel® Core™ i3-8130U Processor' 'AMD Ryzen 5 4680U Processor'\n",
      " 'Qualcomm Snapdragon 888 Processor' 'AMD Ryzen 3 4300U Processor'\n",
      " 'AMD Ryzen 3 3250C Processor' 'AMD Ryzen 5 3580U Processor'\n",
      " 'AMD Ryzen 5 3500C Processor' 'Intel® Core™ i5-11320H Processor'\n",
      " 'AMD Ryzen 7 5800H Processor' 'Apple M1 Max chip'\n",
      " 'Intel® Core™ i7-1195G7 Processor' 'Intel® Core™ i5-10210U Processor'\n",
      " 'Unlocked Intel® Core™ i9-10980HK Processor'\n",
      " 'Intel® Pentium® Gold 4425Y Processor' 'AMD 3020e Processor'\n",
      " 'AMD Ryzen 7 5800U Processor' 'AMD Ryzen 5 5600U Processor'\n",
      " 'AMD A4-9120 Processor' 'Intel® Core™ i5-1035G7 Processor'\n",
      " 'Intel® Core™ i5-1035G4 Processor' 'Intel® Core™ i7-10750H Processor'\n",
      " 'Intel® Core™ i5 Processor' 'AMD Ryzen 7 3700U Processor'\n",
      " 'AMD Ryzen 7 3780U Processor' 'Intel® Core™ i7-1035G7 Processor']\n"
     ]
    }
   ],
   "source": [
    "print(pc_data['Processor'].unique())"
   ]
  },
  {
   "cell_type": "code",
   "execution_count": 48,
   "id": "67f10502",
   "metadata": {},
   "outputs": [],
   "source": [
    "pc_data['Processor'] = pc_data['Processor'].replace('Unlocked Intel® Core™ i9-10980HK Processor','Intel® Core™ i9-10980HK Processor')"
   ]
  },
  {
   "cell_type": "code",
   "execution_count": 49,
   "id": "ee90362b",
   "metadata": {},
   "outputs": [],
   "source": [
    "pc_data[['processor_company','series']] = pc_data['Processor'].str.split(pat=' ',n=1,expand = True)"
   ]
  },
  {
   "cell_type": "code",
   "execution_count": 50,
   "id": "90b5908e",
   "metadata": {},
   "outputs": [
    {
     "name": "stdout",
     "output_type": "stream",
     "text": [
      "['Intel®' 'MediaTek' 'Apple' 'AMD' 'MediaTek\\xa0Kompanio\\xa08192'\n",
      " 'Qualcomm']\n"
     ]
    }
   ],
   "source": [
    "print(pc_data['processor_company'].unique())"
   ]
  },
  {
   "cell_type": "code",
   "execution_count": 51,
   "id": "616e16b4",
   "metadata": {},
   "outputs": [],
   "source": [
    "pc_data['processor_company'].replace('MediaTek\\xa0Kompanio\\xa08192','MediaTek',inplace=True)"
   ]
  },
  {
   "cell_type": "code",
   "execution_count": 52,
   "id": "32c4dac1",
   "metadata": {},
   "outputs": [],
   "source": [
    "pc_data['processor_company'].replace('Intel®','Intel',inplace=True)"
   ]
  },
  {
   "cell_type": "code",
   "execution_count": 53,
   "id": "954e77a3",
   "metadata": {},
   "outputs": [
    {
     "name": "stdout",
     "output_type": "stream",
     "text": [
      "['Intel' 'MediaTek' 'Apple' 'AMD' 'Qualcomm']\n"
     ]
    }
   ],
   "source": [
    "print(pc_data['processor_company'].unique())"
   ]
  },
  {
   "cell_type": "code",
   "execution_count": 54,
   "id": "f25788de",
   "metadata": {},
   "outputs": [],
   "source": [
    "pc_data['Processor'] = pc_data['Processor'].str.replace('®','')\n",
    "pc_data['Processor'] = pc_data['Processor'].str.replace('™','')"
   ]
  },
  {
   "cell_type": "code",
   "execution_count": 55,
   "id": "2a9815f4",
   "metadata": {},
   "outputs": [
    {
     "name": "stdout",
     "output_type": "stream",
     "text": [
      "<class 'pandas.core.frame.DataFrame'>\n",
      "RangeIndex: 374 entries, 0 to 373\n",
      "Data columns (total 12 columns):\n",
      " #   Column             Non-Null Count  Dtype \n",
      "---  ------             --------------  ----- \n",
      " 0   brand              374 non-null    object\n",
      " 1   price              374 non-null    object\n",
      " 2   delivery           374 non-null    object\n",
      " 3   description        374 non-null    object\n",
      " 4   model_name         374 non-null    object\n",
      " 5   colour             374 non-null    object\n",
      " 6   operating_system   374 non-null    object\n",
      " 7   excess             374 non-null    object\n",
      " 8   Processor          374 non-null    object\n",
      " 9   data               374 non-null    object\n",
      " 10  processor_company  374 non-null    object\n",
      " 11  series             374 non-null    object\n",
      "dtypes: object(12)\n",
      "memory usage: 35.2+ KB\n"
     ]
    }
   ],
   "source": [
    "pc_data.info()"
   ]
  },
  {
   "cell_type": "code",
   "execution_count": 56,
   "id": "f57b1af4",
   "metadata": {},
   "outputs": [],
   "source": [
    "pc_data.drop(columns=['data'],inplace=True)"
   ]
  },
  {
   "cell_type": "code",
   "execution_count": 57,
   "id": "bc1640db",
   "metadata": {},
   "outputs": [],
   "source": [
    "pc_data.drop(columns=['series'],inplace=True)"
   ]
  },
  {
   "cell_type": "code",
   "execution_count": 58,
   "id": "6bb34fd8",
   "metadata": {},
   "outputs": [
    {
     "name": "stdout",
     "output_type": "stream",
     "text": [
      "<class 'pandas.core.frame.DataFrame'>\n",
      "RangeIndex: 374 entries, 0 to 373\n",
      "Data columns (total 10 columns):\n",
      " #   Column             Non-Null Count  Dtype \n",
      "---  ------             --------------  ----- \n",
      " 0   brand              374 non-null    object\n",
      " 1   price              374 non-null    object\n",
      " 2   delivery           374 non-null    object\n",
      " 3   description        374 non-null    object\n",
      " 4   model_name         374 non-null    object\n",
      " 5   colour             374 non-null    object\n",
      " 6   operating_system   374 non-null    object\n",
      " 7   excess             374 non-null    object\n",
      " 8   Processor          374 non-null    object\n",
      " 9   processor_company  374 non-null    object\n",
      "dtypes: object(10)\n",
      "memory usage: 29.3+ KB\n"
     ]
    }
   ],
   "source": [
    "pc_data.info()"
   ]
  },
  {
   "cell_type": "code",
   "execution_count": 59,
   "id": "e87e71db",
   "metadata": {},
   "outputs": [
    {
     "name": "stdout",
     "output_type": "stream",
     "text": [
      "0      Intel® Core™ i5-1155G7 Processor\\nRAM: 8 GB / ...\n",
      "1      Intel® Core™ i3-1115G4 Processor\\nRAM: 8 GB / ...\n",
      "2      MediaTek MT8183 Processor\\nRAM: 4 GB / Storage...\n",
      "3      MediaTek MT8183 Processor\\nRAM: 4 GB / Storage...\n",
      "4      Intel® Core™ i5-1135G7 Processor\\nRAM: 8 GB / ...\n",
      "                             ...                        \n",
      "369    Intel® Core™ i7-10750H Processor\\nRAM: 16 GB /...\n",
      "370    AMD Ryzen 3 4300U Processor\\nRAM: 4 GB / Stora...\n",
      "371    MediaTek MT8183 Processor\\nRAM: 4 GB / Storage...\n",
      "372    Intel® Core™ i3-1115G4 Processor\\nRAM: 8 GB / ...\n",
      "373    Intel® Core™ i7-1065G7 Processor\\nRAM: 8 GB / ...\n",
      "Name: excess, Length: 374, dtype: object\n"
     ]
    }
   ],
   "source": [
    "print(pc_data['excess'])"
   ]
  },
  {
   "cell_type": "markdown",
   "id": "2551f5d2",
   "metadata": {},
   "source": [
    "### Creating RAM column,storage column and storage type column from excess column."
   ]
  },
  {
   "cell_type": "code",
   "execution_count": 60,
   "id": "5c2285c8",
   "metadata": {},
   "outputs": [],
   "source": [
    "pc_data['excess'] = pc_data['excess'].str.replace('Memory: ','RAM: ')"
   ]
  },
  {
   "cell_type": "code",
   "execution_count": 61,
   "id": "4d7dd5d4",
   "metadata": {},
   "outputs": [],
   "source": [
    "pc_data['ram_in_GB'] = pc_data['excess'].str.extract(r'RAM: ?(\\d+)')"
   ]
  },
  {
   "cell_type": "code",
   "execution_count": 62,
   "id": "fbab6461",
   "metadata": {},
   "outputs": [
    {
     "data": {
      "text/plain": [
       "array(['8', '4', '16', '32'], dtype=object)"
      ]
     },
     "execution_count": 62,
     "metadata": {},
     "output_type": "execute_result"
    }
   ],
   "source": [
    "pc_data['ram_in_GB'].unique()"
   ]
  },
  {
   "cell_type": "code",
   "execution_count": 63,
   "id": "ad3e7bf9",
   "metadata": {},
   "outputs": [],
   "source": [
    "pc_data[['storage','storage_type']] = pc_data['excess'].str.extract(r'Storage: ?(\\d+? \\w+)? (\\w+)')"
   ]
  },
  {
   "cell_type": "code",
   "execution_count": 64,
   "id": "737bceff",
   "metadata": {},
   "outputs": [
    {
     "name": "stdout",
     "output_type": "stream",
     "text": [
      "<class 'pandas.core.frame.DataFrame'>\n",
      "RangeIndex: 374 entries, 0 to 373\n",
      "Data columns (total 13 columns):\n",
      " #   Column             Non-Null Count  Dtype \n",
      "---  ------             --------------  ----- \n",
      " 0   brand              374 non-null    object\n",
      " 1   price              374 non-null    object\n",
      " 2   delivery           374 non-null    object\n",
      " 3   description        374 non-null    object\n",
      " 4   model_name         374 non-null    object\n",
      " 5   colour             374 non-null    object\n",
      " 6   operating_system   374 non-null    object\n",
      " 7   excess             374 non-null    object\n",
      " 8   Processor          374 non-null    object\n",
      " 9   processor_company  374 non-null    object\n",
      " 10  ram_in_GB          374 non-null    object\n",
      " 11  storage            373 non-null    object\n",
      " 12  storage_type       373 non-null    object\n",
      "dtypes: object(13)\n",
      "memory usage: 38.1+ KB\n",
      "None\n"
     ]
    }
   ],
   "source": [
    "print(pc_data.info())"
   ]
  },
  {
   "cell_type": "code",
   "execution_count": 65,
   "id": "c6d7121e",
   "metadata": {},
   "outputs": [
    {
     "name": "stdout",
     "output_type": "stream",
     "text": [
      "['512 GB' '256 GB' '64 GB' '32 GB' '128 GB' '1 TB' '2 TB' nan]\n"
     ]
    }
   ],
   "source": [
    "print(pc_data['storage'].unique())"
   ]
  },
  {
   "cell_type": "code",
   "execution_count": 66,
   "id": "66e83641",
   "metadata": {},
   "outputs": [],
   "source": [
    "pc_data['storage'] = pc_data['storage'].replace('256 GB','256')\n",
    "pc_data['storage'] = pc_data['storage'].replace('128 GB','128')\n",
    "pc_data['storage'] = pc_data['storage'].replace('64 GB','64')\n",
    "pc_data['storage'] = pc_data['storage'].replace('512 GB','256')\n",
    "pc_data['storage'] = pc_data['storage'].replace('32 GB','256')\n",
    "pc_data['storage'] = pc_data['storage'].replace('1 TB','1000')\n",
    "pc_data['storage'] = pc_data['storage'].replace('2 TB','2000')"
   ]
  },
  {
   "cell_type": "code",
   "execution_count": 67,
   "id": "47b9c46d",
   "metadata": {},
   "outputs": [
    {
     "name": "stdout",
     "output_type": "stream",
     "text": [
      "['256' '64' '128' '1000' '2000' nan]\n"
     ]
    }
   ],
   "source": [
    "print(pc_data['storage'].unique())"
   ]
  },
  {
   "cell_type": "code",
   "execution_count": 68,
   "id": "85a72280",
   "metadata": {},
   "outputs": [],
   "source": [
    "pc_data['storage'] = pc_data['storage'].astype(float)"
   ]
  },
  {
   "cell_type": "code",
   "execution_count": 69,
   "id": "a1239c33",
   "metadata": {},
   "outputs": [],
   "source": [
    "pc_data.rename({'storage':'storage_in_GB'},axis=1,inplace=True)"
   ]
  },
  {
   "cell_type": "markdown",
   "id": "4b02589c",
   "metadata": {},
   "source": [
    "### Creating touchscreen column from excess column."
   ]
  },
  {
   "cell_type": "code",
   "execution_count": 70,
   "id": "e90407d6",
   "metadata": {},
   "outputs": [],
   "source": [
    "pc_data['touch_screen'] = pc_data['excess'].str.contains('touch.*')"
   ]
  },
  {
   "cell_type": "code",
   "execution_count": 71,
   "id": "7b33489a",
   "metadata": {},
   "outputs": [],
   "source": [
    "pc_data['touch_screen'].replace(True,'yes',inplace=True)\n",
    "pc_data['touch_screen'].replace(False,'no',inplace=True)"
   ]
  },
  {
   "cell_type": "markdown",
   "id": "7ad01d7c",
   "metadata": {},
   "source": [
    "### Creating screen_size column using model_name column."
   ]
  },
  {
   "cell_type": "code",
   "execution_count": 72,
   "id": "e787b19e",
   "metadata": {},
   "outputs": [],
   "source": [
    "pc_data['model_name'] = pc_data['model_name'].str.replace('”','\"')\n",
    "pc_data[['temp1','temp2']] = pc_data['model_name'].str.split('\"',expand=True)"
   ]
  },
  {
   "cell_type": "code",
   "execution_count": 73,
   "id": "ca467ec1",
   "metadata": {},
   "outputs": [],
   "source": [
    "pc_data['temp1'] = 'dummy ' + pc_data['temp1'].astype(str)"
   ]
  },
  {
   "cell_type": "code",
   "execution_count": 74,
   "id": "f3d29d59",
   "metadata": {},
   "outputs": [],
   "source": [
    "pc_data[['temp3','screen_size']] = pc_data['temp1'].str.rsplit(' ',n=1,expand=True)"
   ]
  },
  {
   "cell_type": "code",
   "execution_count": 75,
   "id": "69aa8251",
   "metadata": {},
   "outputs": [
    {
     "name": "stdout",
     "output_type": "stream",
     "text": [
      "['14' '15.6' '13.3' '11.6' '12' '17.3' '16' '10.5' '10.1' '12.5' '16.1'\n",
      " '13.5' '13.4' '17' '10.3' '13' '15' '11' '8.3' '13.9' '14.2' '12.3']\n"
     ]
    }
   ],
   "source": [
    "print(pc_data['screen_size'].unique())"
   ]
  },
  {
   "cell_type": "code",
   "execution_count": 76,
   "id": "dc8d36a8",
   "metadata": {},
   "outputs": [
    {
     "name": "stdout",
     "output_type": "stream",
     "text": [
      "<class 'pandas.core.frame.DataFrame'>\n",
      "RangeIndex: 374 entries, 0 to 373\n",
      "Data columns (total 18 columns):\n",
      " #   Column             Non-Null Count  Dtype  \n",
      "---  ------             --------------  -----  \n",
      " 0   brand              374 non-null    object \n",
      " 1   price              374 non-null    object \n",
      " 2   delivery           374 non-null    object \n",
      " 3   description        374 non-null    object \n",
      " 4   model_name         374 non-null    object \n",
      " 5   colour             374 non-null    object \n",
      " 6   operating_system   374 non-null    object \n",
      " 7   excess             374 non-null    object \n",
      " 8   Processor          374 non-null    object \n",
      " 9   processor_company  374 non-null    object \n",
      " 10  ram_in_GB          374 non-null    object \n",
      " 11  storage_in_GB      373 non-null    float64\n",
      " 12  storage_type       373 non-null    object \n",
      " 13  touch_screen       374 non-null    object \n",
      " 14  temp1              374 non-null    object \n",
      " 15  temp2              374 non-null    object \n",
      " 16  temp3              374 non-null    object \n",
      " 17  screen_size        374 non-null    object \n",
      "dtypes: float64(1), object(17)\n",
      "memory usage: 52.7+ KB\n",
      "None\n"
     ]
    }
   ],
   "source": [
    "print(pc_data.info())"
   ]
  },
  {
   "cell_type": "code",
   "execution_count": 77,
   "id": "fb1dd5d4",
   "metadata": {},
   "outputs": [],
   "source": [
    "pc_data.drop(columns=['temp1','temp2','temp3'],inplace=True)"
   ]
  },
  {
   "cell_type": "code",
   "execution_count": 78,
   "id": "ceb2df5d",
   "metadata": {},
   "outputs": [
    {
     "name": "stdout",
     "output_type": "stream",
     "text": [
      "<class 'pandas.core.frame.DataFrame'>\n",
      "RangeIndex: 374 entries, 0 to 373\n",
      "Data columns (total 15 columns):\n",
      " #   Column             Non-Null Count  Dtype  \n",
      "---  ------             --------------  -----  \n",
      " 0   brand              374 non-null    object \n",
      " 1   price              374 non-null    object \n",
      " 2   delivery           374 non-null    object \n",
      " 3   description        374 non-null    object \n",
      " 4   model_name         374 non-null    object \n",
      " 5   colour             374 non-null    object \n",
      " 6   operating_system   374 non-null    object \n",
      " 7   excess             374 non-null    object \n",
      " 8   Processor          374 non-null    object \n",
      " 9   processor_company  374 non-null    object \n",
      " 10  ram_in_GB          374 non-null    object \n",
      " 11  storage_in_GB      373 non-null    float64\n",
      " 12  storage_type       373 non-null    object \n",
      " 13  touch_screen       374 non-null    object \n",
      " 14  screen_size        374 non-null    object \n",
      "dtypes: float64(1), object(14)\n",
      "memory usage: 44.0+ KB\n"
     ]
    }
   ],
   "source": [
    "pc_data.info()"
   ]
  },
  {
   "cell_type": "markdown",
   "id": "2006ea30",
   "metadata": {},
   "source": [
    "### Creating battery_life column from excess column."
   ]
  },
  {
   "cell_type": "code",
   "execution_count": 79,
   "id": "850f51c1",
   "metadata": {},
   "outputs": [],
   "source": [
    "pc_data[['temp1','battery_life']] = pc_data['excess'].str.split('Battery life:',n=1,expand = True)"
   ]
  },
  {
   "cell_type": "code",
   "execution_count": 80,
   "id": "c315bec4",
   "metadata": {},
   "outputs": [],
   "source": [
    "pc_data[['battery_life','temp2']] = pc_data['battery_life'].str.split('\\n',n=1,expand=True)"
   ]
  },
  {
   "cell_type": "code",
   "execution_count": 81,
   "id": "4753cda0",
   "metadata": {},
   "outputs": [],
   "source": [
    "pc_data.drop(columns=['temp1','temp2'],inplace=True)"
   ]
  },
  {
   "cell_type": "code",
   "execution_count": 82,
   "id": "cd5efd9a",
   "metadata": {},
   "outputs": [],
   "source": [
    "pc_data['battery_life'] = pc_data['battery_life'].str.strip()"
   ]
  },
  {
   "cell_type": "code",
   "execution_count": 83,
   "id": "9771ca0b",
   "metadata": {},
   "outputs": [
    {
     "name": "stdout",
     "output_type": "stream",
     "text": [
      "['Up to 8 hours' 'Up to 6.5 hours' 'Up to 12 hours' 'Up to 16 hours'\n",
      " 'Up to 10 hours' 'Up to 18 hours' 'Up to 13 hours' 'Up to 6 hours' None\n",
      " 'Up to 7 hours' 'Up to 20 hours' 'Up to 8.5 hours' 'Up to 13.5 hours'\n",
      " 'Up to 21 hours' 'Up to 11 hours' 'Up to 9.5 hours' 'Up to 9 hours'\n",
      " 'Up to 10.5 hours' 'Up to 11.5 hours' 'Up to 14 hours' 'Up to 5 hours'\n",
      " 'Up to 12.5 hours' 'Up to 15 hours' 'Up to 16.5 hours' 'Up to 17.5 hours'\n",
      " 'Up to 7.5 hours' 'Up to 19 hours' 'Up to 15.5 hours' 'Up to 17 hours'\n",
      " 'Up to 22 hours' 'Up to 5.5 hours' 'Up to 20.5 hours']\n"
     ]
    }
   ],
   "source": [
    "print(pc_data['battery_life'].unique())"
   ]
  },
  {
   "cell_type": "code",
   "execution_count": 84,
   "id": "00350aad",
   "metadata": {},
   "outputs": [
    {
     "name": "stdout",
     "output_type": "stream",
     "text": [
      "['8 ' '6.5 ' '12 ' '16 ' '10 ' '18 ' '13 ' '6 ' None '7 ' '20 ' '8.5 '\n",
      " '13.5 ' '21 ' '11 ' '9.5 ' '9 ' '10.5 ' '11.5 ' '14 ' '5 ' '12.5 ' '15 '\n",
      " '16.5 ' '17.5 ' '7.5 ' '19 ' '15.5 ' '17 ' '22 ' '5.5 ' '20.5 ']\n"
     ]
    }
   ],
   "source": [
    "pc_data['battery_life'] = pc_data['battery_life'].str.replace('Up to ','')\n",
    "pc_data['battery_life'] = pc_data['battery_life'].str.replace('hours','')\n",
    "print(pc_data['battery_life'].unique())"
   ]
  },
  {
   "cell_type": "code",
   "execution_count": 85,
   "id": "eb3065e0",
   "metadata": {},
   "outputs": [],
   "source": [
    "pc_data['battery_life'] = pc_data['battery_life'].str.strip()\n",
    "pc_data['battery_life'] = pc_data['battery_life'].astype(float)\n",
    "pc_data.rename({'battery_life':'battery_life_in_hours'},axis=1,inplace=True)"
   ]
  },
  {
   "cell_type": "code",
   "execution_count": 86,
   "id": "954b7e91",
   "metadata": {},
   "outputs": [
    {
     "name": "stdout",
     "output_type": "stream",
     "text": [
      "<class 'pandas.core.frame.DataFrame'>\n",
      "RangeIndex: 374 entries, 0 to 373\n",
      "Data columns (total 16 columns):\n",
      " #   Column                 Non-Null Count  Dtype  \n",
      "---  ------                 --------------  -----  \n",
      " 0   brand                  374 non-null    object \n",
      " 1   price                  374 non-null    object \n",
      " 2   delivery               374 non-null    object \n",
      " 3   description            374 non-null    object \n",
      " 4   model_name             374 non-null    object \n",
      " 5   colour                 374 non-null    object \n",
      " 6   operating_system       374 non-null    object \n",
      " 7   excess                 374 non-null    object \n",
      " 8   Processor              374 non-null    object \n",
      " 9   processor_company      374 non-null    object \n",
      " 10  ram_in_GB              374 non-null    object \n",
      " 11  storage_in_GB          373 non-null    float64\n",
      " 12  storage_type           373 non-null    object \n",
      " 13  touch_screen           374 non-null    object \n",
      " 14  screen_size            374 non-null    object \n",
      " 15  battery_life_in_hours  231 non-null    float64\n",
      "dtypes: float64(2), object(14)\n",
      "memory usage: 46.9+ KB\n",
      "None\n"
     ]
    }
   ],
   "source": [
    "print(pc_data.info())"
   ]
  },
  {
   "cell_type": "code",
   "execution_count": 87,
   "id": "a446407d",
   "metadata": {},
   "outputs": [
    {
     "name": "stdout",
     "output_type": "stream",
     "text": [
      "    brand   price delivery                                        description  \\\n",
      "0      HP  649.00      yes  Windows 11\\nIntel® Core™ i5-1155G7 Processor\\n...   \n",
      "1    DELL  529.00      yes  Free Upgrade to Windows 11\\nIntel® Core™ i3-11...   \n",
      "2    ACER  379.00      yes  Chrome OS\\nMediaTek MT8183 Processor\\nRAM: 4 G...   \n",
      "3  LENOVO  299.00      yes  Chrome OS\\nMediaTek MT8183 Processor\\nRAM: 4 G...   \n",
      "4    ACER  659.00      yes  Free Upgrade to Windows 11\\nIntel® Core™ i5-11...   \n",
      "\n",
      "                         model_name          colour  \\\n",
      "0  Pavilion 14-dv1629sa 14\" Laptop           silver   \n",
      "1    Inspiron 15 3000 15.6\" Laptop            black   \n",
      "2               314 14\" Chromebook           silver   \n",
      "3         IdeaPad 3 14\" Chromebook             blue   \n",
      "4      Aspire 5 A514-54 14\" Laptop   black & silver   \n",
      "\n",
      "             operating_system  \\\n",
      "0                  Windows 11   \n",
      "1  Free Upgrade to Windows 11   \n",
      "2                   Chrome OS   \n",
      "3                   Chrome OS   \n",
      "4  Free Upgrade to Windows 11   \n",
      "\n",
      "                                              excess  \\\n",
      "0  Intel® Core™ i5-1155G7 Processor\\nRAM: 8 GB / ...   \n",
      "1  Intel® Core™ i3-1115G4 Processor\\nRAM: 8 GB / ...   \n",
      "2  MediaTek MT8183 Processor\\nRAM: 4 GB / Storage...   \n",
      "3  MediaTek MT8183 Processor\\nRAM: 4 GB / Storage...   \n",
      "4  Intel® Core™ i5-1135G7 Processor\\nRAM: 8 GB / ...   \n",
      "\n",
      "                        Processor processor_company ram_in_GB  storage_in_GB  \\\n",
      "0  Intel Core i5-1155G7 Processor             Intel         8          256.0   \n",
      "1  Intel Core i3-1115G4 Processor             Intel         8          256.0   \n",
      "2       MediaTek MT8183 Processor          MediaTek         4           64.0   \n",
      "3       MediaTek MT8183 Processor          MediaTek         4           64.0   \n",
      "4  Intel Core i5-1135G7 Processor             Intel         8          256.0   \n",
      "\n",
      "  storage_type touch_screen screen_size  battery_life_in_hours  \n",
      "0          SSD           no          14                    8.0  \n",
      "1          SSD           no        15.6                    6.5  \n",
      "2         eMMC           no          14                   12.0  \n",
      "3         eMMC           no          14                   16.0  \n",
      "4          SSD           no          14                   10.0  \n"
     ]
    }
   ],
   "source": [
    "print(pc_data.head())"
   ]
  },
  {
   "cell_type": "markdown",
   "id": "ac1d6288",
   "metadata": {},
   "source": [
    "# 4. Deleting the unwanted columns, arranging the columns and sending the data to a csv file."
   ]
  },
  {
   "cell_type": "code",
   "execution_count": 88,
   "id": "d5bc0a51",
   "metadata": {},
   "outputs": [],
   "source": [
    "#deleting unwanted columns\n",
    "pc_data.drop(columns=['description','excess'],inplace=True)"
   ]
  },
  {
   "cell_type": "code",
   "execution_count": 89,
   "id": "4d2eb634",
   "metadata": {},
   "outputs": [],
   "source": [
    "#arranging the columns\n",
    "pc_data = pc_data.reindex(columns=['brand','model_name','colour','operating_system','Processor','processor_company','ram_in_GB','storage_in_GB','storage_type','touch_screen','screen_size','battery_life_in_hours','delivery','price'])"
   ]
  },
  {
   "cell_type": "code",
   "execution_count": 90,
   "id": "f1e8b0aa",
   "metadata": {},
   "outputs": [
    {
     "name": "stdout",
     "output_type": "stream",
     "text": [
      "<class 'pandas.core.frame.DataFrame'>\n",
      "RangeIndex: 374 entries, 0 to 373\n",
      "Data columns (total 14 columns):\n",
      " #   Column                 Non-Null Count  Dtype  \n",
      "---  ------                 --------------  -----  \n",
      " 0   brand                  374 non-null    object \n",
      " 1   model_name             374 non-null    object \n",
      " 2   colour                 374 non-null    object \n",
      " 3   operating_system       374 non-null    object \n",
      " 4   Processor              374 non-null    object \n",
      " 5   processor_company      374 non-null    object \n",
      " 6   ram_in_GB              374 non-null    object \n",
      " 7   storage_in_GB          373 non-null    float64\n",
      " 8   storage_type           373 non-null    object \n",
      " 9   touch_screen           374 non-null    object \n",
      " 10  screen_size            374 non-null    object \n",
      " 11  battery_life_in_hours  231 non-null    float64\n",
      " 12  delivery               374 non-null    object \n",
      " 13  price                  374 non-null    object \n",
      "dtypes: float64(2), object(12)\n",
      "memory usage: 41.0+ KB\n"
     ]
    }
   ],
   "source": [
    "pc_data.info()"
   ]
  },
  {
   "cell_type": "code",
   "execution_count": 91,
   "id": "7d0cc530",
   "metadata": {},
   "outputs": [],
   "source": [
    "pc_data.rename({'price':'price_in_Euro','brand':'company'},axis=1,inplace=True)"
   ]
  },
  {
   "cell_type": "code",
   "execution_count": 92,
   "id": "4c3b9845",
   "metadata": {},
   "outputs": [
    {
     "name": "stdout",
     "output_type": "stream",
     "text": [
      "company                    0\n",
      "model_name                 0\n",
      "colour                     0\n",
      "operating_system           0\n",
      "Processor                  0\n",
      "processor_company          0\n",
      "ram_in_GB                  0\n",
      "storage_in_GB              1\n",
      "storage_type               1\n",
      "touch_screen               0\n",
      "screen_size                0\n",
      "battery_life_in_hours    143\n",
      "delivery                   0\n",
      "price_in_Euro              0\n",
      "dtype: int64\n"
     ]
    }
   ],
   "source": [
    "#checking for null values in each column.\n",
    "print(pc_data.isnull().sum())"
   ]
  },
  {
   "cell_type": "code",
   "execution_count": 93,
   "id": "505ef7bc",
   "metadata": {},
   "outputs": [],
   "source": [
    "#dropping duplicates in the data.\n",
    "pc_data.drop_duplicates(keep='first',inplace=True)"
   ]
  },
  {
   "cell_type": "code",
   "execution_count": 94,
   "id": "76ba6e75",
   "metadata": {},
   "outputs": [
    {
     "name": "stdout",
     "output_type": "stream",
     "text": [
      "<class 'pandas.core.frame.DataFrame'>\n",
      "Int64Index: 374 entries, 0 to 373\n",
      "Data columns (total 14 columns):\n",
      " #   Column                 Non-Null Count  Dtype  \n",
      "---  ------                 --------------  -----  \n",
      " 0   company                374 non-null    object \n",
      " 1   model_name             374 non-null    object \n",
      " 2   colour                 374 non-null    object \n",
      " 3   operating_system       374 non-null    object \n",
      " 4   Processor              374 non-null    object \n",
      " 5   processor_company      374 non-null    object \n",
      " 6   ram_in_GB              374 non-null    object \n",
      " 7   storage_in_GB          373 non-null    float64\n",
      " 8   storage_type           373 non-null    object \n",
      " 9   touch_screen           374 non-null    object \n",
      " 10  screen_size            374 non-null    object \n",
      " 11  battery_life_in_hours  231 non-null    float64\n",
      " 12  delivery               374 non-null    object \n",
      " 13  price_in_Euro          374 non-null    object \n",
      "dtypes: float64(2), object(12)\n",
      "memory usage: 43.8+ KB\n",
      "None\n"
     ]
    }
   ],
   "source": [
    "print(pc_data.info())"
   ]
  },
  {
   "cell_type": "code",
   "execution_count": 95,
   "id": "e2358cf7",
   "metadata": {},
   "outputs": [],
   "source": [
    "pc_data['ram_in_GB'] = pc_data['ram_in_GB'].astype(int)\n",
    "pc_data['screen_size'] = pc_data['screen_size'].astype(float)\n",
    "pc_data['price_in_Euro'] = pc_data['price_in_Euro'].astype(float)"
   ]
  },
  {
   "cell_type": "code",
   "execution_count": 96,
   "id": "586eac4c",
   "metadata": {},
   "outputs": [
    {
     "name": "stdout",
     "output_type": "stream",
     "text": [
      "<class 'pandas.core.frame.DataFrame'>\n",
      "Int64Index: 374 entries, 0 to 373\n",
      "Data columns (total 14 columns):\n",
      " #   Column                 Non-Null Count  Dtype  \n",
      "---  ------                 --------------  -----  \n",
      " 0   company                374 non-null    object \n",
      " 1   model_name             374 non-null    object \n",
      " 2   colour                 374 non-null    object \n",
      " 3   operating_system       374 non-null    object \n",
      " 4   Processor              374 non-null    object \n",
      " 5   processor_company      374 non-null    object \n",
      " 6   ram_in_GB              374 non-null    int32  \n",
      " 7   storage_in_GB          373 non-null    float64\n",
      " 8   storage_type           373 non-null    object \n",
      " 9   touch_screen           374 non-null    object \n",
      " 10  screen_size            374 non-null    float64\n",
      " 11  battery_life_in_hours  231 non-null    float64\n",
      " 12  delivery               374 non-null    object \n",
      " 13  price_in_Euro          374 non-null    float64\n",
      "dtypes: float64(4), int32(1), object(9)\n",
      "memory usage: 42.4+ KB\n",
      "None\n"
     ]
    }
   ],
   "source": [
    "print(pc_data.info())"
   ]
  },
  {
   "cell_type": "markdown",
   "id": "bd9417a1",
   "metadata": {},
   "source": [
    "### Working on missing data."
   ]
  },
  {
   "cell_type": "code",
   "execution_count": 98,
   "id": "4cc335bc",
   "metadata": {},
   "outputs": [
    {
     "name": "stdout",
     "output_type": "stream",
     "text": [
      "Int64Index([293], dtype='int64')\n"
     ]
    }
   ],
   "source": [
    "storage_null = pc_data[pc_data['storage_in_GB'].isnull()].index\n",
    "print(storage_null)"
   ]
  },
  {
   "cell_type": "code",
   "execution_count": 99,
   "id": "ade86652",
   "metadata": {},
   "outputs": [],
   "source": [
    "pc_data.loc[293,['storage_in_GB']] = 1000\n",
    "pc_data.loc[293,['storage_type']] = 'SSD'"
   ]
  },
  {
   "cell_type": "code",
   "execution_count": 100,
   "id": "d2b3d3c7",
   "metadata": {},
   "outputs": [
    {
     "name": "stdout",
     "output_type": "stream",
     "text": [
      "<class 'pandas.core.frame.DataFrame'>\n",
      "Int64Index: 374 entries, 0 to 373\n",
      "Data columns (total 14 columns):\n",
      " #   Column                 Non-Null Count  Dtype  \n",
      "---  ------                 --------------  -----  \n",
      " 0   company                374 non-null    object \n",
      " 1   model_name             374 non-null    object \n",
      " 2   colour                 374 non-null    object \n",
      " 3   operating_system       374 non-null    object \n",
      " 4   Processor              374 non-null    object \n",
      " 5   processor_company      374 non-null    object \n",
      " 6   ram_in_GB              374 non-null    int32  \n",
      " 7   storage_in_GB          374 non-null    float64\n",
      " 8   storage_type           374 non-null    object \n",
      " 9   touch_screen           374 non-null    object \n",
      " 10  screen_size            374 non-null    float64\n",
      " 11  battery_life_in_hours  231 non-null    float64\n",
      " 12  delivery               374 non-null    object \n",
      " 13  price_in_Euro          374 non-null    float64\n",
      "dtypes: float64(4), int32(1), object(9)\n",
      "memory usage: 50.5+ KB\n"
     ]
    }
   ],
   "source": [
    "pc_data.info()"
   ]
  },
  {
   "cell_type": "code",
   "execution_count": 101,
   "id": "f4db80a1",
   "metadata": {},
   "outputs": [],
   "source": [
    "#writing the data into a csv file.\n",
    "pc_data.to_csv('laptops_in_currys.csv',index=False)"
   ]
  },
  {
   "cell_type": "markdown",
   "id": "414ed276",
   "metadata": {},
   "source": [
    "# 5. statistics on the data."
   ]
  },
  {
   "cell_type": "markdown",
   "id": "4c13790e",
   "metadata": {},
   "source": [
    "### Univariate plots"
   ]
  },
  {
   "cell_type": "code",
   "execution_count": 102,
   "id": "a64144a5",
   "metadata": {},
   "outputs": [
    {
     "data": {
      "image/png": "[encoded data removed]",
      "text/plain": [
       "<Figure size 432x288 with 1 Axes>"
      ]
     },
     "metadata": {
      "needs_background": "light"
     },
     "output_type": "display_data"
    }
   ],
   "source": [
    "ax = sns.countplot(data=pc_data,x = 'company')\n",
    "ax.tick_params('x', labelrotation = 45,labelsize=10)\n",
    "plt.xlabel('Brands')\n",
    "plt.title('Laptop brands count in currys.ie site')\n",
    "plt.show()"
   ]
  },
  {
   "cell_type": "code",
   "execution_count": 103,
   "id": "90fc1626",
   "metadata": {},
   "outputs": [
    {
     "name": "stdout",
     "output_type": "stream",
     "text": [
      "count     374\n",
      "unique      9\n",
      "top        HP\n",
      "freq       87\n",
      "Name: company, dtype: object\n"
     ]
    }
   ],
   "source": [
    "print(pc_data['company'].describe())"
   ]
  },
  {
   "cell_type": "markdown",
   "id": "16a59669",
   "metadata": {},
   "source": [
    "Interpretation for laptop company:\n",
    "\n",
    "Among all the brands HP company laptops are highest with count 87.\n",
    "\n",
    "ACER and lenovo has a count of 60 each.\n",
    "\n",
    "HUAWEI company laptops are less which is roughly less than 10."
   ]
  },
  {
   "cell_type": "code",
   "execution_count": 104,
   "id": "4e69c3a3",
   "metadata": {},
   "outputs": [
    {
     "name": "stdout",
     "output_type": "stream",
     "text": [
      "silver               133\n",
      "grey                  58\n",
      "blue                  43\n",
      "black                 43\n",
      "platinum              22\n",
      "space grey            10\n",
      "mystic silver          9\n",
      "gold                   7\n",
      "white                  6\n",
      "graphite               6\n",
      "ice blue               4\n",
      "sandstone              4\n",
      "slate grey             3\n",
      "mystic navy            3\n",
      "abyss blue             3\n",
      "white & rose gold      3\n",
      "matte black            3\n",
      "obsidian               2\n",
      "blue & grey            2\n",
      "glacier                2\n",
      "slate green            2\n",
      "pink                   1\n",
      "grey & black           1\n",
      "abyss blue fabric      1\n",
      "graphite grey          1\n",
      "black & silver         1\n",
      "red                    1\n",
      "Name: colour, dtype: int64\n"
     ]
    }
   ],
   "source": [
    "print(pc_data['colour'].value_counts())"
   ]
  },
  {
   "cell_type": "code",
   "execution_count": 105,
   "id": "72a5e957",
   "metadata": {},
   "outputs": [
    {
     "name": "stdout",
     "output_type": "stream",
     "text": [
      "count        374\n",
      "unique        27\n",
      "top       silver\n",
      "freq         133\n",
      "Name: colour, dtype: object\n"
     ]
    }
   ],
   "source": [
    "print(pc_data['colour'].describe())"
   ]
  },
  {
   "cell_type": "markdown",
   "id": "d432bdb1",
   "metadata": {},
   "source": [
    "Interpretation for colours:\n",
    "\n",
    "Among all the colours silver colour is highest with count 133.\n",
    "\n",
    "grey,blue and black has a count of more than 40."
   ]
  },
  {
   "cell_type": "code",
   "execution_count": 106,
   "id": "b67505ba",
   "metadata": {},
   "outputs": [
    {
     "name": "stdout",
     "output_type": "stream",
     "text": [
      "count                                374\n",
      "unique                                74\n",
      "top       Intel Core i5-1135G7 Processor\n",
      "freq                                  46\n",
      "Name: Processor, dtype: object\n"
     ]
    }
   ],
   "source": [
    "print(pc_data['Processor'].describe())"
   ]
  },
  {
   "cell_type": "markdown",
   "id": "74047014",
   "metadata": {},
   "source": [
    "Interpretation for processor:\n",
    "\n",
    "Among all the processors highest processor is Intel Core i5-1135G7 with count of 46. "
   ]
  },
  {
   "cell_type": "code",
   "execution_count": 107,
   "id": "1f5fd203",
   "metadata": {},
   "outputs": [
    {
     "data": {
      "image/png": "[encoded data removed]",
      "text/plain": [
       "<Figure size 432x288 with 1 Axes>"
      ]
     },
     "metadata": {
      "needs_background": "light"
     },
     "output_type": "display_data"
    }
   ],
   "source": [
    "sns.countplot(data=pc_data,x = 'processor_company')\n",
    "plt.xlabel('Brands')\n",
    "plt.title('Laptop processor companies in currys.ie site')\n",
    "plt.show()"
   ]
  },
  {
   "cell_type": "code",
   "execution_count": 108,
   "id": "81d89124",
   "metadata": {},
   "outputs": [
    {
     "name": "stdout",
     "output_type": "stream",
     "text": [
      "count       374\n",
      "unique        5\n",
      "top       Intel\n",
      "freq        265\n",
      "Name: processor_company, dtype: object\n"
     ]
    }
   ],
   "source": [
    "print(pc_data['processor_company'].describe())"
   ]
  },
  {
   "cell_type": "markdown",
   "id": "a35c1004",
   "metadata": {},
   "source": [
    "Interpretation for  company:\n",
    "    \n",
    "Among all the processor companies intel is highest with count 265.\n",
    "\n",
    "AMD processors are more than 50 and less than 80.\n",
    "\n",
    "MediaTek, Apple and Qualcomm has less than 25 processors."
   ]
  },
  {
   "cell_type": "code",
   "execution_count": 110,
   "id": "151c5669",
   "metadata": {},
   "outputs": [
    {
     "data": {
      "image/png": "[encoded data removed]",
      "text/plain": [
       "<Figure size 432x288 with 1 Axes>"
      ]
     },
     "metadata": {
      "needs_background": "light"
     },
     "output_type": "display_data"
    }
   ],
   "source": [
    "sns.countplot(data=pc_data,x = 'ram_in_GB')\n",
    "plt.xlabel('RAM in GB')\n",
    "plt.title('Laptops count in currys.ie based on RAM')\n",
    "plt.show()"
   ]
  },
  {
   "cell_type": "code",
   "execution_count": 111,
   "id": "cd432341",
   "metadata": {},
   "outputs": [
    {
     "name": "stdout",
     "output_type": "stream",
     "text": [
      "count    374.000000\n",
      "mean       8.823529\n",
      "std        5.285002\n",
      "min        4.000000\n",
      "25%        4.000000\n",
      "50%        8.000000\n",
      "75%        8.000000\n",
      "max       32.000000\n",
      "Name: ram_in_GB, dtype: float64\n"
     ]
    }
   ],
   "source": [
    "print(pc_data['ram_in_GB'].describe())"
   ]
  },
  {
   "cell_type": "markdown",
   "id": "32732f40",
   "metadata": {},
   "source": [
    "Interpretation for RAM:\n",
    "\n",
    "In currys.ie website highest number of PC's are with 8GB RAM.\n",
    "\n",
    "32 GB RAM PC's are less."
   ]
  },
  {
   "cell_type": "code",
   "execution_count": 112,
   "id": "0d761840",
   "metadata": {},
   "outputs": [
    {
     "data": {
      "image/png": "[encoded data removed]",
      "text/plain": [
       "<Figure size 432x288 with 1 Axes>"
      ]
     },
     "metadata": {
      "needs_background": "light"
     },
     "output_type": "display_data"
    }
   ],
   "source": [
    "sns.countplot(data=pc_data,x='storage_in_GB')\n",
    "plt.title('Laptops count in currys.ie based on storage')\n",
    "plt.xlabel('Storage in GB')\n",
    "plt.show()"
   ]
  },
  {
   "cell_type": "code",
   "execution_count": 114,
   "id": "d3a9abd8",
   "metadata": {},
   "outputs": [
    {
     "name": "stdout",
     "output_type": "stream",
     "text": [
      "count     374.000000\n",
      "mean      289.133690\n",
      "std       269.658265\n",
      "min        64.000000\n",
      "25%       128.000000\n",
      "50%       256.000000\n",
      "75%       256.000000\n",
      "max      2000.000000\n",
      "Name: storage_in_GB, dtype: float64\n"
     ]
    }
   ],
   "source": [
    "print(pc_data['storage_in_GB'].describe())"
   ]
  },
  {
   "cell_type": "markdown",
   "id": "b3ac7fcf",
   "metadata": {},
   "source": [
    "Interpretation for Storage(GB):\n",
    "\n",
    "In currys.ie site highest number of laptops have 256 GB storage which is greater than the remaining all together.\n",
    "\n",
    "There are about 75 laptops with 128 GB storage.\n",
    "\n",
    "laptops categories with 64GB, 1000GB and 2000GB storage are less than 50."
   ]
  },
  {
   "cell_type": "code",
   "execution_count": 115,
   "id": "37fb05bc",
   "metadata": {},
   "outputs": [
    {
     "data": {
      "image/png": "[encoded data removed]",
      "text/plain": [
       "<Figure size 432x288 with 1 Axes>"
      ]
     },
     "metadata": {
      "needs_background": "light"
     },
     "output_type": "display_data"
    }
   ],
   "source": [
    "type_counts = dict(pc_data.storage_type.value_counts())\n",
    "fig, ax = plt.subplots()\n",
    "ax.bar(x = list(type_counts.keys()), height = list(type_counts.values()))\n",
    "ax.tick_params('x', colors = 'blue')\n",
    "plt.title('Laptops storage type count')\n",
    "plt.show()"
   ]
  },
  {
   "cell_type": "code",
   "execution_count": 116,
   "id": "910c46a8",
   "metadata": {},
   "outputs": [
    {
     "name": "stdout",
     "output_type": "stream",
     "text": [
      "count     374\n",
      "unique      5\n",
      "top       SSD\n",
      "freq      299\n",
      "Name: storage_type, dtype: object\n"
     ]
    }
   ],
   "source": [
    "print(pc_data['storage_type'].describe())"
   ]
  },
  {
   "cell_type": "markdown",
   "id": "a17e07ed",
   "metadata": {},
   "source": [
    "Interpretation for Storage type:\n",
    "    \n",
    "Majority of laptops in currys.ie have SSD storage type."
   ]
  },
  {
   "cell_type": "code",
   "execution_count": 117,
   "id": "2a69825d",
   "metadata": {},
   "outputs": [
    {
     "data": {
      "image/png": "[encoded data removed]",
      "text/plain": [
       "<Figure size 432x288 with 1 Axes>"
      ]
     },
     "metadata": {},
     "output_type": "display_data"
    }
   ],
   "source": [
    "touch_counts = dict(pc_data.touch_screen.value_counts())\n",
    "col = ['#4169E9','#32CD32']\n",
    "plt.pie(touch_counts.values(),labels = touch_counts.keys(),startangle = 90,autopct='%1.1f%%',colors = col)\n",
    "plt.title('Percentage of laptops with touch screen in currys.ie')\n",
    "plt.show()"
   ]
  },
  {
   "cell_type": "code",
   "execution_count": 118,
   "id": "35f39fb4",
   "metadata": {},
   "outputs": [
    {
     "name": "stdout",
     "output_type": "stream",
     "text": [
      "count     374\n",
      "unique      2\n",
      "top        no\n",
      "freq      239\n",
      "Name: touch_screen, dtype: object\n"
     ]
    }
   ],
   "source": [
    "print(pc_data['touch_screen'].describe())"
   ]
  },
  {
   "cell_type": "markdown",
   "id": "5814147c",
   "metadata": {},
   "source": [
    "Interpretation for touch screen:\n",
    "\n",
    "Majority of the laptops in currys.ie don't have touch screen with a count of 239 among 374."
   ]
  },
  {
   "cell_type": "code",
   "execution_count": 119,
   "id": "1ed99463",
   "metadata": {},
   "outputs": [
    {
     "data": {
      "image/png": "[encoded data removed]",
      "text/plain": [
       "<Figure size 432x288 with 1 Axes>"
      ]
     },
     "metadata": {
      "needs_background": "light"
     },
     "output_type": "display_data"
    }
   ],
   "source": [
    "sns.boxplot(data=pc_data,y ='screen_size')\n",
    "plt.title('Laptops screensize in currys.ie')\n",
    "plt.ylabel('screen size',size=10)\n",
    "plt.show()"
   ]
  },
  {
   "cell_type": "code",
   "execution_count": 120,
   "id": "10d8af65",
   "metadata": {},
   "outputs": [
    {
     "name": "stdout",
     "output_type": "stream",
     "text": [
      "count    374.000000\n",
      "mean      14.151337\n",
      "std        1.516128\n",
      "min        8.300000\n",
      "25%       13.300000\n",
      "50%       14.000000\n",
      "75%       15.600000\n",
      "max       17.300000\n",
      "Name: screen_size, dtype: float64\n"
     ]
    }
   ],
   "source": [
    "print(pc_data['screen_size'].describe())"
   ]
  },
  {
   "cell_type": "markdown",
   "id": "bb862cc8",
   "metadata": {},
   "source": [
    "Interpretation for screen size:\n",
    "\n",
    "Most of the laptops has screen size between 13 inch and 15.6 inch.\n",
    "\n",
    "Maximum screen size is 17.3 inch and minimum is 8.3 inch.\n"
   ]
  },
  {
   "cell_type": "code",
   "execution_count": 121,
   "id": "319733b9",
   "metadata": {},
   "outputs": [
    {
     "data": {
      "image/png": "[encoded data removed]",
      "text/plain": [
       "<Figure size 432x288 with 1 Axes>"
      ]
     },
     "metadata": {
      "needs_background": "light"
     },
     "output_type": "display_data"
    }
   ],
   "source": [
    "sns.boxplot(y = 'battery_life_in_hours', data = pc_data)\n",
    "plt.title(\"Battery life of laptops in currys.ie site\")\n",
    "plt.show()"
   ]
  },
  {
   "cell_type": "code",
   "execution_count": 122,
   "id": "bb1813fc",
   "metadata": {},
   "outputs": [
    {
     "name": "stdout",
     "output_type": "stream",
     "text": [
      "count    231.000000\n",
      "mean      11.588745\n",
      "std        3.776317\n",
      "min        5.000000\n",
      "25%        9.250000\n",
      "50%       10.500000\n",
      "75%       13.000000\n",
      "max       22.000000\n",
      "Name: battery_life_in_hours, dtype: float64\n"
     ]
    }
   ],
   "source": [
    "print(pc_data['battery_life_in_hours'].describe())"
   ]
  },
  {
   "cell_type": "markdown",
   "id": "52d6c45d",
   "metadata": {},
   "source": [
    "Interpretation for battery life:\n",
    "    \n",
    "Most of the laptops have battery life between 9.25 hours and 13 hours.\n",
    "\n",
    "The data has outliers.\n",
    "\n",
    "The median is roughly at 10.5 hours."
   ]
  },
  {
   "cell_type": "code",
   "execution_count": 123,
   "id": "4a788919",
   "metadata": {},
   "outputs": [
    {
     "data": {
      "image/png": "[encoded data removed]",
      "text/plain": [
       "<Figure size 432x288 with 1 Axes>"
      ]
     },
     "metadata": {
      "needs_background": "light"
     },
     "output_type": "display_data"
    }
   ],
   "source": [
    "sns.countplot(data = pc_data,x = 'delivery',palette=[\"#76EE00\",\"#FF0000\"])\n",
    "plt.title('Laptops delivery avalilabilty')\n",
    "plt.show()"
   ]
  },
  {
   "cell_type": "code",
   "execution_count": 124,
   "id": "d5472fb2",
   "metadata": {},
   "outputs": [
    {
     "name": "stdout",
     "output_type": "stream",
     "text": [
      "count     374\n",
      "unique      2\n",
      "top       yes\n",
      "freq      244\n",
      "Name: delivery, dtype: object\n"
     ]
    }
   ],
   "source": [
    "print(pc_data['delivery'].describe())"
   ]
  },
  {
   "cell_type": "markdown",
   "id": "0c525bce",
   "metadata": {},
   "source": [
    "Interpretation for delivery:\n",
    "\n",
    "Almost 250 laptops are available for delivery and less than 150 laptops are non-deliverable."
   ]
  },
  {
   "cell_type": "code",
   "execution_count": 125,
   "id": "7e2b300d",
   "metadata": {},
   "outputs": [
    {
     "data": {
      "image/png": "[encoded data removed]",
      "text/plain": [
       "<Figure size 432x288 with 2 Axes>"
      ]
     },
     "metadata": {
      "needs_background": "light"
     },
     "output_type": "display_data"
    }
   ],
   "source": [
    "fig, ax = plt.subplots(1,2)\n",
    "sns.boxplot(y = 'price_in_Euro', data = pc_data, ax = ax[0])\n",
    "sns.violinplot(y = 'price_in_Euro', data = pc_data, ax = ax[1])\n",
    "fig.suptitle(\"Price of laptops in currys.ie site\")\n",
    "plt.tight_layout(rect = [0, 0.03, 1, 1])\n",
    "plt.show()"
   ]
  },
  {
   "cell_type": "code",
   "execution_count": 126,
   "id": "7451cd9e",
   "metadata": {},
   "outputs": [
    {
     "name": "stdout",
     "output_type": "stream",
     "text": [
      "count     374.000000\n",
      "mean      970.218930\n",
      "std       667.707266\n",
      "min       159.000000\n",
      "25%       479.000000\n",
      "50%       789.495000\n",
      "75%      1326.500000\n",
      "max      3849.000000\n",
      "Name: price_in_Euro, dtype: float64\n"
     ]
    }
   ],
   "source": [
    "print(pc_data['price_in_Euro'].describe())"
   ]
  },
  {
   "cell_type": "markdown",
   "id": "a0f00c84",
   "metadata": {},
   "source": [
    "Interpretation for price:\n",
    "\n",
    "Median of the price is roughly at 790 Euro's.\n",
    "\n",
    "Price data has so many outliers.\n",
    "\n",
    "The lower quartile is roughly at 479 Euro's and upper quartile is at 1327 Euro's."
   ]
  },
  {
   "cell_type": "code",
   "execution_count": 142,
   "id": "6efaf833",
   "metadata": {},
   "outputs": [
    {
     "data": {
      "image/png": "[encoded data removed]",
      "text/plain": [
       "<Figure size 432x288 with 1 Axes>"
      ]
     },
     "metadata": {
      "needs_background": "light"
     },
     "output_type": "display_data"
    }
   ],
   "source": [
    "ax = sns.countplot(data=pc_data,x='operating_system')\n",
    "plt.title('Laptops count in currys.ie based on operating_system')\n",
    "ax.tick_params('x', labelrotation = 45,labelsize=10)\n",
    "plt.xlabel('Operating system')\n",
    "plt.tight_layout(rect = [0, 0.03, 4, 2])\n",
    "plt.show()"
   ]
  },
  {
   "cell_type": "code",
   "execution_count": 143,
   "id": "dbfe67ea",
   "metadata": {},
   "outputs": [
    {
     "data": {
      "text/plain": [
       "count                            374\n",
       "unique                            11\n",
       "top       Free Upgrade to Windows 11\n",
       "freq                             230\n",
       "Name: operating_system, dtype: object"
      ]
     },
     "execution_count": 143,
     "metadata": {},
     "output_type": "execute_result"
    }
   ],
   "source": [
    "pc_data['operating_system'].describe()"
   ]
  },
  {
   "cell_type": "markdown",
   "id": "fdbea51a",
   "metadata": {},
   "source": [
    "Interpretation for OS:\n",
    "\n",
    "Laptops with Free upgrade to windows 11 are highest in currys.ie website with a count of 230."
   ]
  },
  {
   "cell_type": "markdown",
   "id": "fa27466b",
   "metadata": {},
   "source": [
    "## bivariate plots\n",
    "(Note: Format used: plot and then interpretation at the below of the plot.)"
   ]
  },
  {
   "cell_type": "code",
   "execution_count": 144,
   "id": "fe165d14",
   "metadata": {},
   "outputs": [
    {
     "data": {
      "image/png": "[encoded data removed]",
      "text/plain": [
       "<Figure size 432x288 with 1 Axes>"
      ]
     },
     "metadata": {
      "needs_background": "light"
     },
     "output_type": "display_data"
    }
   ],
   "source": [
    "price_plot = sns.boxplot(x='company',y='price_in_Euro',data=pc_data)\n",
    "price_plot.set_xticklabels(price_plot.get_xticklabels(), rotation=30)\n",
    "plt.xlabel('company')\n",
    "plt.ylabel(\"Price in Euro's\")\n",
    "plt.title('Relationship between price and company')\n",
    "plt.show()"
   ]
  },
  {
   "cell_type": "markdown",
   "id": "6961a4e2",
   "metadata": {},
   "source": [
    "Apple brand laptops starts with highest prices.\n",
    "\n",
    "Except Apple, Samsung and Microsoft remaining all companies price's median is less than 1000 in currys.ie website.\n",
    "\n",
    "Most of the data has outliers."
   ]
  },
  {
   "cell_type": "code",
   "execution_count": 145,
   "id": "aa3c7f56",
   "metadata": {},
   "outputs": [
    {
     "data": {
      "image/png": "[encoded data removed]",
      "text/plain": [
       "<Figure size 432x288 with 1 Axes>"
      ]
     },
     "metadata": {
      "needs_background": "light"
     },
     "output_type": "display_data"
    }
   ],
   "source": [
    "price_plot = sns.boxplot(x='processor_company',y='price_in_Euro',data=pc_data)\n",
    "price_plot.set_xticklabels(price_plot.get_xticklabels(), rotation=30)\n",
    "plt.xlabel('Processor company')\n",
    "plt.ylabel(\"Price in Euro's\")\n",
    "plt.title('Relationship between price and processor company')\n",
    "plt.show()"
   ]
  },
  {
   "cell_type": "markdown",
   "id": "f434f28a",
   "metadata": {},
   "source": [
    "Intel and AMD companies processor's price has outliers.\n",
    "\n",
    "Laptops prices which have MediaTek processor's are roughly less than 520 Euro's.\n",
    "\n",
    "Median of Intel and AMD are slightly nearer to each other.\n",
    "\n",
    "laptops with Apple processors are starts with high price than other brands."
   ]
  },
  {
   "cell_type": "code",
   "execution_count": 146,
   "id": "26dab2c3",
   "metadata": {},
   "outputs": [
    {
     "data": {
      "image/png": "[encoded data removed]",
      "text/plain": [
       "<Figure size 432x288 with 1 Axes>"
      ]
     },
     "metadata": {
      "needs_background": "light"
     },
     "output_type": "display_data"
    }
   ],
   "source": [
    "price_plot = sns.boxplot(x='operating_system',y='price_in_Euro',data=pc_data)\n",
    "price_plot.set_xticklabels(price_plot.get_xticklabels(), rotation=30)\n",
    "plt.tight_layout(rect = [0, 0.03, 3, 2])\n",
    "plt.title('Relationship between price and operating system')\n",
    "plt.show()"
   ]
  },
  {
   "cell_type": "markdown",
   "id": "e9f5cf86",
   "metadata": {},
   "source": [
    "Prices of laptops with macos 12.0 Monterey is higher than 2000 Euro's.\n",
    "\n",
    "Prices of laptops with chrome OS, windows 10s and windows 11s are overlapping.\n",
    "\n",
    "Prices of laptops with MacOS, Windows 10 and Android 11 are higher than 1500 Euro's."
   ]
  },
  {
   "cell_type": "code",
   "execution_count": 147,
   "id": "16311614",
   "metadata": {},
   "outputs": [
    {
     "data": {
      "image/png": "[encoded data removed]",
      "text/plain": [
       "<Figure size 360x360 with 1 Axes>"
      ]
     },
     "metadata": {
      "needs_background": "light"
     },
     "output_type": "display_data"
    }
   ],
   "source": [
    "sns.catplot(x='storage_in_GB',y='storage_type',data=pc_data)\n",
    "plt.xlabel('Storage in GB')\n",
    "plt.ylabel('Storage Type')\n",
    "plt.title('Relationship between storage type and storage(GB)')\n",
    "plt.show()"
   ]
  },
  {
   "cell_type": "markdown",
   "id": "04cfa74f",
   "metadata": {},
   "source": [
    "Laptops with SSD storage have maximum 2000 GB storage and minimum 64 GB storage in curry.ie website.\n",
    "\n",
    "Laptops with eMMC storage have maximum 256 GB storage and minimum 64 GB storage in curry.ie website.\n",
    "\n",
    "Laptops with eMCP storage have maximum 128 GB storage and minimum 64 GB storage in curry.ie website.\n",
    "\n",
    "Laptops with HDD storage have 1000 GB  of storage in curry.ie website.\n",
    "\n",
    "Laptops with UFS storage have maximum 250 GB storage and minimum 128 GB storage in curry.ie website."
   ]
  },
  {
   "cell_type": "code",
   "execution_count": 148,
   "id": "aba1da6b",
   "metadata": {},
   "outputs": [
    {
     "data": {
      "image/png": "[encoded data removed]",
      "text/plain": [
       "<Figure size 360x360 with 1 Axes>"
      ]
     },
     "metadata": {
      "needs_background": "light"
     },
     "output_type": "display_data"
    }
   ],
   "source": [
    "sns.catplot(y='storage_in_GB',x='ram_in_GB',data=pc_data)\n",
    "plt.ylabel('Storage in GB')\n",
    "plt.xlabel('RAM in GB')\n",
    "plt.title('Relationship between RAM(GB) and storage(GB)')\n",
    "plt.show()"
   ]
  },
  {
   "cell_type": "markdown",
   "id": "dcc0a2b3",
   "metadata": {},
   "source": [
    "Laptops with RAM of 4GB have storage of 64 GB minimum and 1000 GB maximum in currys.ie site.\n",
    "\n",
    "Laptops with RAM of 8GB have storage of 128 GB minimum and 1000 GB maximum in currys.ie site.\n",
    "\n",
    "Laptops with RAM of 4GB have storage of 256 GB minimum and 1000 GB maximum in currys.ie site.\n",
    "\n",
    "Laptops with RAM of 4GB have storage of 1000 GB minimum and 2000 GB maximum in currys.ie site."
   ]
  },
  {
   "cell_type": "code",
   "execution_count": 149,
   "id": "14b9ee3e",
   "metadata": {},
   "outputs": [
    {
     "data": {
      "image/png": "[encoded data removed]",
      "text/plain": [
       "<Figure size 432x288 with 1 Axes>"
      ]
     },
     "metadata": {
      "needs_background": "light"
     },
     "output_type": "display_data"
    }
   ],
   "source": [
    "sns.scatterplot(x = 'company',y = 'battery_life_in_hours', data=pc_data)\n",
    "plt.xlabel('company')\n",
    "plt.xticks(rotation=40)\n",
    "plt.title('Relationship between company and battery life')\n",
    "plt.show()"
   ]
  },
  {
   "cell_type": "markdown",
   "id": "7ba6dfa4",
   "metadata": {},
   "source": [
    "HP company laptops have a battery life roughly between 5.5 hours and 15.5 hours.\n",
    "\n",
    "DELL company laptops have a battery life roughly between 6.0 hours and 17 hours.\n",
    "\n",
    "ACER company laptops have a battery life roughly between 7.6 hours and 17 hours.\n",
    "\n",
    "LENOVO company laptops have a battery life roughly between 5.0 hours and 18 hours.\n",
    "\n",
    "Apple company laptops have a battery life roughly between 16 hours and 22 hours.\n",
    "\n",
    "SAMSUNG company laptops have a battery life roughly between 10 hours and 21 hours.\n",
    "\n",
    "MICROSOFT company laptops have a battery life roughly between 9 hours and 19 hours.\n",
    "\n",
    "HUAWEI company laptops have a battery life roughly between 7 hours and 13 hours."
   ]
  },
  {
   "cell_type": "markdown",
   "id": "8ff3b3d4",
   "metadata": {},
   "source": [
    "### Multivariate plot"
   ]
  },
  {
   "cell_type": "code",
   "execution_count": 150,
   "id": "e9c5fe7e",
   "metadata": {},
   "outputs": [
    {
     "data": {
      "image/png": "[encoded data removed]",
      "text/plain": [
       "<Figure size 974.375x900 with 30 Axes>"
      ]
     },
     "metadata": {
      "needs_background": "light"
     },
     "output_type": "display_data"
    }
   ],
   "source": [
    "sns.pairplot(pc_data,hue = 'touch_screen')\n",
    "plt.show()"
   ]
  },
  {
   "cell_type": "markdown",
   "id": "0da2a44f",
   "metadata": {},
   "source": [
    "Laptop prices increases slightly with increase in the battery life.\n",
    "\n",
    "Laptop prices increases with increase in screen size.\n",
    "\n",
    "Laptop prices increases with increase in RAM."
   ]
  },
  {
   "cell_type": "markdown",
   "id": "155710f9",
   "metadata": {},
   "source": [
    "# 6. Results Section:\n",
    "\n",
    "## univariate plots results:\n",
    "\n",
    "Interpretation for laptop company:\n",
    "Among all the brand's HP company laptops are the highest with a count of 87.\n",
    "ACER and Lenovo have a count of 60 each.\n",
    "HUAWEI company laptops are less which is roughly less than 10.\n",
    "\n",
    "Interpretation for colors:\n",
    "Among all the colors silver color is the highest with a count of 133.\n",
    "grey, blue and black has a count of more than 40.\n",
    "\n",
    "Interpretation for processor:\n",
    "Among all the processors highest processor is the Intel Core i5-1135G7 with a count of 46.\n",
    "\n",
    "Interpretation for processor company:\n",
    "Among all the processor companies intel is highest with a count of 265.\n",
    "AMD processors are more than 50 and less than 80.\n",
    "MediaTek, Apple, and Qualcomm have less than 25 processors.\n",
    "\n",
    "Interpretation for OS:\n",
    "Laptops with Free upgrade to windows 11 are the highest in Currys.ie website with a count of 230.\n",
    "\n",
    "Interpretation for RAM:\n",
    "In currys.ie website highest number of PC's are with 8GB RAM.\n",
    "32 GB RAM PC's are less.\n",
    "\n",
    "Interpretation for Storage(GB):\n",
    "In currys.ie site highest number of laptops have 256 GB storage which is greater than the remaining altogether.\n",
    "There are about 75 laptops with 128 GB of storage.\n",
    "laptops categories with 64GB, 1000GB, and 2000GB storage are less than 50.\n",
    "\n",
    "Interpretation for Storage type:\n",
    "The majority of laptops in currys.ie have SSD storage type.\n",
    "\n",
    "Interpretation for touch screen:\n",
    "The majority of the laptops are in currys.ie don't have a touchscreen with a count of 239 among 374.\n",
    "\n",
    "Interpretation for battery life:\n",
    "Most of the laptops have battery life between 9.25 hours and 13 hours.\n",
    "The data has outliers.\n",
    "The median is roughly at 10.5 hours.\n",
    "\n",
    "Interpretation for delivery:\n",
    "Almost 250 laptops are available for delivery and less than 150 laptops are non-deliverable.\n",
    "\n",
    "Interpretation for price:\n",
    "Median of the price is roughly 790 euros.\n",
    "Price data has so many outliers.\n",
    "The lower quartile is roughly at 479 Euro's and the upper quartile is at 1327 euros.\n",
    "\n",
    "## Bivariate plots results:\n",
    "\n",
    "Apple brand laptops start with the highest prices.\n",
    "Except Apple, Samsung, and Microsoft remaining all companies' prices median is less than 1000 in currys.ie website.\n",
    "\n",
    "Intel and AMD companies processor's price has outliers.\n",
    "Laptops prices that have MediaTek processors are roughly less than 520 Euro.\n",
    "The median of Intel and AMD are slightly nearer to each other.\n",
    "laptops with Apple processors start with high prices than other brands.\n",
    "\n",
    "Prices of laptops with macOS 12.0 Monterey is higher than 2000 Euro.\n",
    "Prices of laptops with Chrome OS, windows 10s, and windows 11s are overlapping.\n",
    "Prices of laptops with macOS, Windows 10, and Android 11 are higher than 1500 euros.\n",
    "\n",
    "Laptops with SSD storage have a maximum of 2000 GB storage and a minimum of 64 GB storage in curry.ie website.\n",
    "Laptops with eMMC storage have a maximum of 256 GB storage and a minimum of 64 GB storage in curry.ie website.\n",
    "Laptops with eMCP storage have a maximum of 128 GB storage and a minimum of 64 GB storage in curry.ie website.\n",
    "Laptops with HDD storage have 1000 GB of storage in curry.ie website.\n",
    "Laptops with UFS storage have a maximum of 250 GB storage and a minimum of 128 GB storage in curry.ie website.\n",
    "\n",
    "Laptops with RAM of 4GB have storage of 64 GB minimum and 1000 GB maximum in Currys.ie site.\n",
    "Laptops with RAM of 8GB have storage of 128 GB minimum and 1000 GB maximum in currys.ie site.\n",
    "Laptops with RAM of 4GB have storage of 256 GB minimum and 1000 GB maximum in currys.ie site.\n",
    "Laptops with RAM of 4GB have storage of 1000 GB minimum and 2000 GB maximum in currys.ie site.\n",
    "\n",
    "HP company laptops have a battery life of roughly between 5.5 hours and 15.5 hours.\n",
    "DELL company laptops have a battery life of roughly between 6.0 hours and 17 hours.\n",
    "ACER company laptops have a battery life of roughly between 7.6 hours and 17 hours.\n",
    "LENOVO company laptops have a battery life of roughly between 5.0 hours and 18 hours.\n",
    "Apple company laptops have a battery life of roughly between 16 hours and 22 hours.\n",
    "SAMSUNG company laptops have a battery life of roughly between 10 hours and 21 hours.\n",
    "MICROSOFT company laptops have a battery life of roughly between 9 hours and 19 hours.\n",
    "HUAWEI company laptops have a battery life of roughly between 7 hours and 13 hours.\n",
    "\n",
    "## Multivariate plot results:\n",
    "\n",
    "Laptop prices increase slightly with an increase in the battery life.\n",
    "Laptop prices increase with an increase in screen size.\n",
    "Laptop prices increase with an increase in RAM."
   ]
  },
  {
   "cell_type": "code",
   "execution_count": null,
   "id": "dc47c5ae",
   "metadata": {},
   "outputs": [],
   "source": []
  }
 ],
 "metadata": {
  "kernelspec": {
   "display_name": "Python 3 (ipykernel)",
   "language": "python",
   "name": "python3"
  },
  "language_info": {
   "codemirror_mode": {
    "name": "ipython",
    "version": 3
   },
   "file_extension": ".py",
   "mimetype": "text/x-python",
   "name": "python",
   "nbconvert_exporter": "python",
   "pygments_lexer": "ipython3",
   "version": "3.9.7"
  }
 },
 "nbformat": 4,
 "nbformat_minor": 5
}
